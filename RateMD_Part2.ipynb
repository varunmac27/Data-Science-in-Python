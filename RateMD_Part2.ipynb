{
 "cells": [
  {
   "cell_type": "code",
   "execution_count": null,
   "metadata": {
    "pycharm": {
     "is_executing": true
    }
   },
   "outputs": [],
   "source": [
    "#Importing all packages\n",
    "import selenium\n",
    "import pandas as pd\n",
    "from selenium.webdriver.common.keys import Keys\n",
    "from selenium import webdriver\n",
    "import re\n",
    "from bs4 import BeautifulSoup\n",
    "import urllib\n",
    "from selenium.common.exceptions import NoSuchElementException \n",
    "from selenium.common.exceptions import WebDriverException\n",
    "import time\n",
    "import csv"
   ]
  },
  {
   "cell_type": "code",
   "execution_count": null,
   "metadata": {},
   "outputs": [],
   "source": [
    "#Calling Chrome driver\n",
    "chrome_path = \"C:/Users/sangh/Documents/Anaconda_files/Healthcare/chromedriver_win32/chromedriver.exe\"\n",
    "driver = webdriver.Chrome(chrome_path)"
   ]
  },
  {
   "cell_type": "code",
   "execution_count": null,
   "metadata": {},
   "outputs": [],
   "source": [
    "#Creating different lists to extract info from each page\n",
    "doctor_names=[]\n",
    "school=[]\n",
    "year = []"
   ]
  },
  {
   "cell_type": "code",
   "execution_count": null,
   "metadata": {},
   "outputs": [],
   "source": [
    "#Defining fucntion for extracting demographics\n",
    "def demoInfo(url):\n",
    "    \n",
    "    #Getting all the individual doctor page links\n",
    "    list_of_hrefs = []\n",
    "    \n",
    "    doctor_list = driver.find_elements_by_id(\"doctor-list\")\n",
    "    time.sleep(1)\n",
    "\n",
    "    for block in doctor_list:\n",
    "        elements = block.find_elements_by_class_name(\"search-item-doctor-link\")\n",
    "        for el in elements:\n",
    "            list_of_hrefs.append(el.get_attribute(\"href\"))\n",
    "\n",
    "    #print (list_of_hrefs)\n",
    "    \n",
    "    #Removing all unwanted characters in the link list \n",
    "    try:\n",
    "        regex = re.compile(r'^tel:')\n",
    "        href=[x for x in list_of_hrefs if not regex.match(x)]\n",
    "    except:\n",
    "        list_of_hrefs=list(filter(None,list_of_hrefs))\n",
    "        regex = re.compile(r'^tel:')\n",
    "        href=[x for x in list_of_hrefs if not regex.match(x)]\n",
    "    finally:\n",
    "        print (len(href))\n",
    "        append_str = '#credentials'\n",
    "        list_new = [sub + append_str for sub in href]\n",
    "        print(list_new)\n",
    "        print(len(list_new))\n",
    "    \n",
    "    for j in range(len(list_new)):\n",
    "        time.sleep(2)\n",
    "        driver.get(list_new[j])     \n",
    "        \n",
    "        time.sleep(5)\n",
    "        \n",
    "        try:\n",
    "            name=driver.find_element_by_xpath(\"//h1[@itemprop='name']\")\n",
    "            doctor_names.append(name.text)\n",
    "        except:\n",
    "            name.append(\"Unknown\")\n",
    "        \n",
    "        try:\n",
    "            s=driver.find_element_by_xpath(\"//*[@id='left-content']/span/div[2]/span/ul/li/span[1]\")\n",
    "            school.append(s.text)\n",
    "        except:\n",
    "            school.append(\"Unknown\")    \n",
    "        \n",
    "        try:\n",
    "            y=driver.find_element_by_xpath(\"//*[@id='left-content']/span/div[2]/span/ul/li/span[2]\")\n",
    "            year.append(y.text)\n",
    "        except:\n",
    "            year.append(\"Unknown\")\n",
    "            \n",
    "    print (len(doctor_names))\n",
    "    print (len(school))   \n",
    "    print (len(year))"
   ]
  },
  {
   "cell_type": "code",
   "execution_count": null,
   "metadata": {},
   "outputs": [],
   "source": [
    "pageLinks=[]\n",
    "#Setting initial URL\n",
    "url=driver.get(\"https://www.ratemds.com/best-doctors/il/?specialty=gynecologist-obgyn&page=1\")\n",
    "source=driver.current_url\n",
    "pageLinks.append(source)\n",
    "time.sleep(2)\n",
    "\n",
    "#Loop to get all the pageLinks for Doctors\n",
    "for i in range(112):\n",
    "    try:\n",
    "        time.sleep(3)\n",
    "        driver.find_element_by_xpath('//*[@id=\"doctor-list\"]/div/nav/ul/li[11]/a/span/i'.format(i)).click()\n",
    "        source = driver.current_url\n",
    "        pageLinks.append(source)\n",
    "    except ConnectionResetError:\n",
    "        continue\n",
    "    except NoSuchElementException:\n",
    "        continue\n",
    "    except:\n",
    "        continue\n",
    "print(len(pageLinks))"
   ]
  },
  {
   "cell_type": "code",
   "execution_count": null,
   "metadata": {},
   "outputs": [],
   "source": [
    "len(pageLinks)"
   ]
  },
  {
   "cell_type": "code",
   "execution_count": null,
   "metadata": {},
   "outputs": [],
   "source": [
    "pageLinks.remove(None)\n",
    "pageLinks.append(driver.current_url)\n",
    "seen = set()\n",
    "result = []\n",
    "for item in pageLinks:\n",
    "    if item not in seen:\n",
    "        seen.add(item)\n",
    "        result.append(item)"
   ]
  },
  {
   "cell_type": "code",
   "execution_count": null,
   "metadata": {},
   "outputs": [],
   "source": [
    "#Getting all the demographic info\n",
    "for i in range(len(pageLinks)):\n",
    "    url=driver.get(pageLinks[i])\n",
    "    print (pageLinks[i])\n",
    "    time.sleep(1)\n",
    "    demoInfo(url)"
   ]
  },
  {
   "cell_type": "code",
   "execution_count": null,
   "metadata": {},
   "outputs": [],
   "source": [
    "#Checking length of lists \n",
    "print (len(doctor_names))\n",
    "print (len(school))\n",
    "print(len(year))"
   ]
  },
  {
   "cell_type": "code",
   "execution_count": null,
   "metadata": {},
   "outputs": [],
   "source": [
    "print(school)"
   ]
  },
  {
   "cell_type": "code",
   "execution_count": null,
   "metadata": {},
   "outputs": [],
   "source": [
    "print(year)"
   ]
  },
  {
   "cell_type": "code",
   "execution_count": null,
   "metadata": {},
   "outputs": [],
   "source": [
    "#Output to csv file\n",
    "reviewDict={'Name':doctor_names, 'University':school, 'Year':year}\n",
    "dataframe=pd.DataFrame(data=reviewDict)\n",
    "dataframe\n",
    "dataframe.to_csv('RateMD_Demographics.csv', header=True, mode='a')"
   ]
  }
 ],
 "metadata": {
  "kernelspec": {
   "display_name": "Python 3",
   "language": "python",
   "name": "python3"
  },
  "language_info": {
   "codemirror_mode": {
    "name": "ipython",
    "version": 3
   },
   "file_extension": ".py",
   "mimetype": "text/x-python",
   "name": "python",
   "nbconvert_exporter": "python",
   "pygments_lexer": "ipython3",
   "version": "3.7.6"
  }
 },
 "nbformat": 4,
 "nbformat_minor": 4
}
