{
 "cells": [
  {
   "cell_type": "code",
   "execution_count": 1,
   "metadata": {
    "pycharm": {
     "is_executing": true
    }
   },
   "outputs": [],
   "source": [
    "#Importing libraries\n",
    "import selenium\n",
    "import pandas as pd\n",
    "from selenium.webdriver.common.keys import Keys\n",
    "from selenium import webdriver\n",
    "import re\n",
    "from bs4 import BeautifulSoup\n",
    "import urllib\n",
    "from selenium.common.exceptions import NoSuchElementException \n",
    "from selenium.common.exceptions import WebDriverException\n",
    "import time\n",
    "\n",
    "from selenium import webdriver\n",
    "from selenium.webdriver.chrome.options import Options\n",
    "from selenium.webdriver.common.by import By\n",
    "from selenium.webdriver.support.ui import WebDriverWait\n",
    "from selenium.webdriver.support import expected_conditions as EC\n",
    "from selenium.common.exceptions import TimeoutException, WebDriverException\n",
    "import csv"
   ]
  },
  {
   "cell_type": "code",
   "execution_count": 2,
   "metadata": {},
   "outputs": [],
   "source": [
    "#Setting up chrome driver\n",
    "from selenium.webdriver.support.wait import WebDriverWait\n",
    "options=webdriver.ChromeOptions()\n",
    "chrome_path = \"C:/Users/sangh/Documents/Anaconda_files/Healthcare/chromedriver_win32/chromedriver.exe\"\n",
    "options.add_argument(\"start-maximized\")\n",
    "options.add_argument(\"disable-infobars\")\n",
    "options.add_argument(\"--disable-extensions\")\n",
    "options.add_argument(\"--no-sandbox\")\n",
    "options.add_argument(\"--disable-dev-shm-usage\")\n",
    "options.add_argument(\"test-type\")\n",
    "options.add_argument(\"--dns-prefetch-disable\")\n",
    "driver = webdriver.Chrome(chrome_path,options=options)\n"
   ]
  },
  {
   "cell_type": "code",
   "execution_count": 3,
   "metadata": {},
   "outputs": [],
   "source": [
    "#Creating different lists to extract info from each page\n",
    "name=[]\n",
    "gender=[]\n",
    "age=[]\n",
    "score=[]\n",
    "metaReview=[] "
   ]
  },
  {
   "cell_type": "code",
   "execution_count": 4,
   "metadata": {},
   "outputs": [],
   "source": [
    "#Defining fucntion for extracting Demographics\n",
    "def demoInfo(url):\n",
    "    \n",
    "    #Getting all the individual doctor page links\n",
    "    list_of_hrefs = []\n",
    "\n",
    "    doctor_list = driver.find_elements_by_class_name(\"uSearch-cards\")\n",
    "\n",
    "    for block in doctor_list:\n",
    "        elements = block.find_elements_by_tag_name(\"a\")\n",
    "        for el in elements:\n",
    "            list_of_hrefs.append(el.get_attribute(\"href\"))\n",
    "\n",
    "    print (list_of_hrefs)\n",
    "    \n",
    "    #Removing all unwanted characters in the link list \n",
    "    try:\n",
    "        regex = re.compile(r'^tel:')\n",
    "        href=[x for x in list_of_hrefs if not regex.match(x)]\n",
    "    except:\n",
    "        list_of_hrefs=list(filter(None,list_of_hrefs))\n",
    "        regex = re.compile(r'^tel:')\n",
    "        href=[x for x in list_of_hrefs if not regex.match(x)]\n",
    "    finally:\n",
    "        print (len(href))\n",
    "    \n",
    "    \n",
    "    for i in range(len(href)):\n",
    "        time.sleep(8)\n",
    "        driver.get(href[i])     \n",
    "        \n",
    "        try:\n",
    "            x=driver.find_element_by_xpath(\"//h1[@data-qa-target='ProviderDisplayName']\")\n",
    "            name.append(x.text)\n",
    "        except:\n",
    "            name.append(\"Unknown\")\n",
    "            \n",
    "        try:\n",
    "            s=driver.find_element_by_xpath(\"//p[@class='score']\")\n",
    "            score.append(s.text)\n",
    "        except:\n",
    "            score.append(0)\n",
    "        \n",
    "        try:\n",
    "            y=driver.find_element_by_xpath(\"//span[@data-qa-target='ProviderDisplayGender']\")\n",
    "            gender.append(y.text)\n",
    "        except:\n",
    "            gender.append(\"Unknown\")\n",
    "        \n",
    "        try:\n",
    "            z=driver.find_element_by_xpath(\"//span[@data-qa-target='ProviderDisplayAge']\")\n",
    "            age.append(z.text)\n",
    "        except:\n",
    "            age.append(1)\n",
    "        \n",
    "    print (len(name))\n",
    "    print (len(age))\n",
    "    print (len(gender))\n",
    "    print (len(score)) \n"
   ]
  },
  {
   "cell_type": "code",
   "execution_count": 5,
   "metadata": {},
   "outputs": [],
   "source": [
    "def reviews(url):\n",
    "    #Getting all the individual doctor page links\n",
    "    list_of_hrefs = []\n",
    "\n",
    "    doctor_list = driver.find_elements_by_class_name(\"uSearch-cards\")\n",
    "\n",
    "    for block in doctor_list:\n",
    "        elements = block.find_elements_by_tag_name(\"a\")\n",
    "        for el in elements:\n",
    "            list_of_hrefs.append(el.get_attribute(\"href\"))\n",
    "\n",
    "    print (list_of_hrefs)\n",
    "    \n",
    "    #Removing all unwanted characters in the link list \n",
    "    try:\n",
    "        regex = re.compile(r'^tel:')\n",
    "        href=[x for x in list_of_hrefs if not regex.match(x)]\n",
    "    except:\n",
    "        list_of_hrefs=list(filter(None,list_of_hrefs))\n",
    "        regex = re.compile(r'^tel:')\n",
    "        href=[x for x in list_of_hrefs if not regex.match(x)]\n",
    "    finally:\n",
    "        print (len(href))\n",
    "    \n",
    "    #Getting all the reviews from each individual doctor's page\n",
    "    \n",
    "    for i in range(len(href)):\n",
    "        pageReview=[]\n",
    "        time.sleep(8)\n",
    "        driver.get(href[i])\n",
    "        for x in range(10):\n",
    "            try:\n",
    "                moreReviews=driver.find_element_by_xpath(\"//div[@class='c-comment-list']\").click()\n",
    "            except NoSuchElementException:\n",
    "                continue\n",
    "            except WebDriverException:\n",
    "                continue\n",
    "            except:\n",
    "                continue\n",
    "        comment=driver.find_elements_by_xpath(\"//div[@class='c-single-comment']\")\n",
    "        try:\n",
    "          for c in comment:\n",
    "             pageReview.append(c.text)\n",
    "          metaReview.append(pageReview)\n",
    "        except:\n",
    "            continue\n",
    "        \n",
    "        print (len(metaReview))\n",
    "    \n",
    "    "
   ]
  },
  {
   "cell_type": "code",
   "execution_count": 6,
   "metadata": {},
   "outputs": [],
   "source": [
    "pageLinks=[]\n",
    "#Setting initial URL\n",
    "url=driver.get(\"https://www.healthgrades.com/usearch?what=Obstetrics%20%26%20Gynecology&where=IL&pageNum=1&sort.provider=bestmatch&state=IL\")\n",
    "pageLinks.append(url)\n",
    "listhref=[]\n",
    "for k in range(0):\n",
    "    try:\n",
    "      time.sleep(2)\n",
    "      element=driver.find_element_by_xpath(\"//*[@id='usearch-container']/div/main/div[1]/ul/li/nav/ul/li[10]/a[@class='_3ZWfj']\")\n",
    "      driver.execute_script(\"arguments[0].click();\", element)\n",
    "      pageLinks.append(driver.current_url)\n",
    "    except ConnectionResetError:\n",
    "      continue\n",
    "    except:\n",
    "      element1=driver.find_element_by_xpath(\"//*[@id='usearch-container']/div/main/div[1]/ul/li/nav/ul/li[9]/a[@class='_3ZWfj']\")\n",
    "      driver.execute_script(\"arguments[0].click();\", element1)\n",
    "      pageLinks.append(driver.current_url)\n",
    "      continue\n",
    "pageLinks.append(driver.current_url)\n"
   ]
  },
  {
   "cell_type": "code",
   "execution_count": 7,
   "metadata": {},
   "outputs": [
    {
     "data": {
      "text/plain": [
       "2"
      ]
     },
     "execution_count": 7,
     "metadata": {},
     "output_type": "execute_result"
    }
   ],
   "source": [
    "len(pageLinks)"
   ]
  },
  {
   "cell_type": "code",
   "execution_count": 8,
   "metadata": {},
   "outputs": [],
   "source": [
    "pageLinks.remove(None)\n",
    "pageLinks.append(driver.current_url)\n",
    "seen = set()\n",
    "result = []\n",
    "for item in pageLinks:\n",
    "    if item not in seen:\n",
    "        seen.add(item)\n",
    "        result.append(item)"
   ]
  },
  {
   "cell_type": "code",
   "execution_count": null,
   "metadata": {},
   "outputs": [
    {
     "name": "stdout",
     "output_type": "stream",
     "text": [
      "https://www.healthgrades.com/usearch?what=Obstetrics%20%26%20Gynecology&where=IL&pageNum=1&sort.provider=bestmatch&state=IL\n",
      "['https://www.healthgrades.com/physician/dr-scott-pierce-3493d', 'https://www.healthgrades.com/physician/dr-michael-noone-x7w7g', 'tel:6307016037', 'https://www.healthgrades.com/physician/dr-christopher-olson-x4jdv', 'tel:6307016037', 'https://www.healthgrades.com/physician/dr-roberta-blandon-2jkn8', 'https://www.healthgrades.com/physician/dr-kelly-jirschele-3y432', 'tel:6307016037', 'https://www.healthgrades.com/physician/dr-stephen-locher-33jlp', 'https://www.healthgrades.com/physician/dr-edward-tanner-y3knc', 'tel:3125743157', 'https://www.healthgrades.com/physician/dr-michael-moen-x52x7', 'tel:6307016037', 'https://www.healthgrades.com/physician/dr-michelle-luthringshausen-xgdrn', 'https://www.healthgrades.com/physician/dr-robert-kus-yg6mn', 'https://www.healthgrades.com/physician/dr-meghan-flannery-xqq9v', 'tel:6307016037', 'https://www.healthgrades.com/physician/dr-elias-sabbagha-gcs6x', 'https://www.healthgrades.com/physician/dr-nancy-fay-ypwcf', 'https://www.healthgrades.com/physician/dr-elyse-erlich-23vt7', 'https://www.healthgrades.com/physician/dr-richard-levy-yfpty', 'https://www.healthgrades.com/physician/dr-mark-sibul-xhty2', 'https://www.healthgrades.com/physician/dr-john-josupait-2yxn9', 'tel:6307016037', 'https://www.healthgrades.com/physician/dr-elaine-cheng-2pkxf', 'https://www.healthgrades.com/physician/dr-robert-koss-xljf6', 'https://www.healthgrades.com/physician/dr-brett-vassallo-xg3b2', 'https://www.healthgrades.com/physician/dr-victor-trinkus-yfbqw', 'tel:3125743157', 'https://www.healthgrades.com/physician/dr-kamaljeet-murthy-3h59q', 'https://www.healthgrades.com/physician/dr-susan-lupo-x9w6l', 'https://www.healthgrades.com/physician/dr-richard-rock-3j779', 'https://www.healthgrades.com/physician/dr-alice-chen-x9mdx', 'https://www.healthgrades.com/physician/dr-jean-hurteau-3gfjl', 'https://www.healthgrades.com/physician/dr-ronald-miller-xcyfr', 'https://www.healthgrades.com/physician/dr-francisco-garcini-y3trn', 'https://www.healthgrades.com/physician/dr-dawn-mcgee-3fhgd', 'https://www.healthgrades.com/physician/dr-azra-sadikovic-gctqd', 'https://www.healthgrades.com/physician/dr-andrew-roth-y3xqt', 'https://www.healthgrades.com/physician/dr-mamatha-moodalagiriaiah-w326g', 'https://www.healthgrades.com/physician/dr-rhonda-freed-2dr22', 'https://www.healthgrades.com/physician/dr-harbans-deol-xvstt', 'https://www.healthgrades.com/physician/dr-david-asbery-gg4hh', 'https://www.healthgrades.com/physician/dr-dawn-sadowski-32qw8', 'https://www.healthgrades.com/usearch?what=Obstetrics%20%26%20Gynecology&where=IL&pageNum=2&sort.provider=bestmatch&state=IL', 'https://www.healthgrades.com/usearch?what=Obstetrics%20%26%20Gynecology&where=IL&pageNum=3&sort.provider=bestmatch&state=IL', 'https://www.healthgrades.com/usearch?what=Obstetrics%20%26%20Gynecology&where=IL&pageNum=4&sort.provider=bestmatch&state=IL', 'https://www.healthgrades.com/usearch?what=Obstetrics%20%26%20Gynecology&where=IL&pageNum=5&sort.provider=bestmatch&state=IL', 'https://www.healthgrades.com/usearch?what=Obstetrics%20%26%20Gynecology&where=IL&pageNum=67&sort.provider=bestmatch&state=IL', 'https://www.healthgrades.com/usearch?what=Obstetrics%20%26%20Gynecology&where=IL&pageNum=2&sort.provider=bestmatch&state=IL', None]\n",
      "42\n"
     ]
    }
   ],
   "source": [
    "#Getting all the demographic info\n",
    "for i in range(len(result)):\n",
    "    url=driver.get(result[i])\n",
    "    print (result[i])\n",
    "    time.sleep(1)\n",
    "    demoInfo(url)"
   ]
  },
  {
   "cell_type": "code",
   "execution_count": null,
   "metadata": {
    "pycharm": {
     "name": "#%%\n"
    }
   },
   "outputs": [],
   "source": [
    "#Getting all the reviews\n",
    "for i in range(len(result)):\n",
    "    url=driver.get(result[i])\n",
    "    print (result[i])\n",
    "    time.sleep(1)\n",
    "    reviews(url)"
   ]
  },
  {
   "cell_type": "code",
   "execution_count": null,
   "metadata": {},
   "outputs": [],
   "source": [
    "#Checking length of lists\n",
    "print (len(name))\n",
    "print (len(age))\n",
    "print (len(gender))\n",
    "print (len(score))\n",
    "print (len(metaReview))"
   ]
  },
  {
   "cell_type": "code",
   "execution_count": null,
   "metadata": {},
   "outputs": [],
   "source": [
    "#Output to csv file\n",
    "reviewDict={'DoctorName':name, 'Age':age, 'Gender':gender,'Rating':score, 'Reviews':metaReview}\n",
    "dataframe=pd.DataFrame(data=reviewDict)\n",
    "dataframe\n",
    "dataframe.to_csv('HG_AllReviews.csv', header=True, mode='a')"
   ]
  }
 ],
 "metadata": {
  "kernelspec": {
   "display_name": "Python 3",
   "language": "python",
   "name": "python3"
  },
  "language_info": {
   "codemirror_mode": {
    "name": "ipython",
    "version": 3
   },
   "file_extension": ".py",
   "mimetype": "text/x-python",
   "name": "python",
   "nbconvert_exporter": "python",
   "pygments_lexer": "ipython3",
   "version": "3.7.6"
  },
  "pycharm": {
   "stem_cell": {
    "cell_type": "raw",
    "metadata": {
     "collapsed": false
    },
    "source": []
   }
  }
 },
 "nbformat": 4,
 "nbformat_minor": 4
}
