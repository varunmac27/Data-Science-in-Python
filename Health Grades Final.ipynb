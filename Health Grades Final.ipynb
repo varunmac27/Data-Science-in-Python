{
 "cells": [
  {
   "cell_type": "markdown",
   "metadata": {},
   "source": [
    "#### Importing all the necessary packages"
   ]
  },
  {
   "cell_type": "code",
   "execution_count": 1,
   "metadata": {
    "pycharm": {
     "is_executing": false
    }
   },
   "outputs": [],
   "source": [
    "import selenium\n",
    "import pandas as pd\n",
    "from selenium.webdriver.common.keys import Keys\n",
    "from selenium import webdriver\n",
    "import re\n",
    "from bs4 import BeautifulSoup\n",
    "import urllib\n",
    "from selenium.common.exceptions import NoSuchElementException \n",
    "from selenium.common.exceptions import WebDriverException\n",
    "import time\n",
    "\n",
    "from selenium import webdriver\n",
    "from selenium.webdriver.chrome.options import Options\n",
    "from selenium.webdriver.common.by import By\n",
    "from selenium.webdriver.support.ui import WebDriverWait\n",
    "from selenium.webdriver.support import expected_conditions as EC\n",
    "from selenium.common.exceptions import TimeoutException, WebDriverException\n",
    "import csv"
   ]
  },
  {
   "cell_type": "code",
   "execution_count": 3,
   "metadata": {
    "pycharm": {
     "is_executing": false
    }
   },
   "outputs": [],
   "source": [
    "from selenium.webdriver.support.wait import WebDriverWait\n",
    "options=webdriver.ChromeOptions()\n",
    "chrome_path = \"C:/Users/Sanghamitra/PycharmProjects/594_project/chromedriver_win32/chromedriver.exe\"\n",
    "options.add_argument(\"start-maximized\")\n",
    "options.add_argument(\"disable-infobars\")\n",
    "options.add_argument(\"--disable-extensions\")\n",
    "options.add_argument(\"--no-sandbox\")\n",
    "options.add_argument(\"--disable-dev-shm-usage\")\n",
    "options.add_argument(\"test-type\")\n",
    "driver = webdriver.Chrome(chrome_path,options=options)\n"
   ]
  },
  {
   "cell_type": "code",
   "execution_count": 4,
   "metadata": {
    "pycharm": {
     "is_executing": false
    }
   },
   "outputs": [],
   "source": [
    "#Creating different lists to extract info from each page\n",
    "name=[]\n",
    "gender=[]\n",
    "age=[]\n",
    "score=[]\n",
    "speciality=[]\n",
    "bio=[]\n",
    "metaReview=[] "
   ]
  },
  {
   "cell_type": "code",
   "execution_count": 5,
   "metadata": {
    "pycharm": {
     "is_executing": false
    }
   },
   "outputs": [],
   "source": [
    "def demoInfo(url):\n",
    "    \n",
    "    #Getting all the individual doctor page links\n",
    "    list_of_hrefs = []\n",
    "\n",
    "    doctor_list = driver.find_elements_by_class_name(\"uSearch-cards\")\n",
    "\n",
    "    for block in doctor_list:\n",
    "        elements = block.find_elements_by_tag_name(\"a\")\n",
    "        for el in elements:\n",
    "            list_of_hrefs.append(el.get_attribute(\"href\"))\n",
    "\n",
    "    print (list_of_hrefs)\n",
    "    \n",
    "    #Removing all unwanted characters in the link list \n",
    "    try:\n",
    "        regex = re.compile(r'^tel:')\n",
    "        href=[x for x in list_of_hrefs if not regex.match(x)]\n",
    "    except:\n",
    "        list_of_hrefs=list(filter(None,list_of_hrefs))\n",
    "        regex = re.compile(r'^tel:')\n",
    "        href=[x for x in list_of_hrefs if not regex.match(x)]\n",
    "    finally:\n",
    "        print (len(href))\n",
    "    \n",
    "    \n",
    "    for i in range(len(href)):\n",
    "        time.sleep(8)\n",
    "        driver.get(href[i])     \n",
    "        \n",
    "        try:\n",
    "            x=driver.find_element_by_xpath(\"//h1[@data-qa-target='ProviderDisplayName']\")\n",
    "            #x=driver.find_element_by_tag_name(\"h1\")\n",
    "            name.append(x.text)\n",
    "        except:\n",
    "            name.append(\"Unknown\")\n",
    "            \n",
    "        try:\n",
    "            sp=driver.find_element_by_xpath(\"//span[@data-qa-target='ProviderDisplaySpeciality']\")\n",
    "            speciality.append(sp.text)\n",
    "        except:\n",
    "            speciality.append(\"Unknown\")\n",
    "        \n",
    "        try:\n",
    "            b=driver.find_element_by_xpath(\"//p[@data-qa-target='premium-biography']\")\n",
    "            #x=driver.find_element_by_tag_name(\"h1\")\n",
    "            bio.append(b.text)\n",
    "        except:\n",
    "            bio.append(\"Unknown\")\n",
    "         \n",
    "        try:\n",
    "            s=driver.find_element_by_xpath(\"//p[@class='score']\")\n",
    "            score.append(s.text)\n",
    "        except:\n",
    "            score.append(0)\n",
    "        \n",
    "        try:\n",
    "            y=driver.find_element_by_xpath(\"//span[@data-qa-target='ProviderDisplayGender']\")\n",
    "            gender.append(y.text)\n",
    "        except:\n",
    "            gender.append(\"Unknown\")\n",
    "        \n",
    "        try:\n",
    "            z=driver.find_element_by_xpath(\"//span[@data-qa-target='ProviderDisplayAge']\")\n",
    "            age.append(z.text)\n",
    "        except:\n",
    "            age.append(1)\n",
    "        \n",
    "    print (len(name))\n",
    "    print (len(age))\n",
    "    print (len(gender))\n",
    "    print (len(score)) \n",
    "    print(len(speciality))\n",
    "    print(len(bio))\n",
    "    "
   ]
  },
  {
   "cell_type": "code",
   "execution_count": 6,
   "metadata": {
    "pycharm": {
     "is_executing": false
    }
   },
   "outputs": [],
   "source": [
    "def reviews(url):\n",
    "    #Getting all the individual doctor page links\n",
    "    list_of_hrefs = []\n",
    "\n",
    "    doctor_list = driver.find_elements_by_class_name(\"uSearch-cards\")\n",
    "\n",
    "    for block in doctor_list:\n",
    "        elements = block.find_elements_by_tag_name(\"a\")\n",
    "        for el in elements:\n",
    "            list_of_hrefs.append(el.get_attribute(\"href\"))\n",
    "\n",
    "    print (list_of_hrefs)\n",
    "    \n",
    "    #Removing all unwanted characters in the link list \n",
    "    try:\n",
    "        regex = re.compile(r'^tel:')\n",
    "        href=[x for x in list_of_hrefs if not regex.match(x)]\n",
    "    except:\n",
    "        list_of_hrefs=list(filter(None,list_of_hrefs))\n",
    "        regex = re.compile(r'^tel:')\n",
    "        href=[x for x in list_of_hrefs if not regex.match(x)]\n",
    "    finally:\n",
    "        print (len(href))\n",
    "    \n",
    "    #Getting all the reviews from each individual doctor's page\n",
    "    \n",
    "    for i in range(len(href)):\n",
    "        pageReview=[]\n",
    "        time.sleep(8)\n",
    "        driver.get(href[i])\n",
    "        for x in range(10):\n",
    "            try:\n",
    "                moreReviews=driver.find_element_by_xpath(\"//div[@class='c-comment-list']\").click()\n",
    "            except NoSuchElementException:\n",
    "                continue\n",
    "            except WebDriverException:\n",
    "                continue\n",
    "            except:\n",
    "                continue\n",
    "        comment=driver.find_elements_by_xpath(\"//div[@class='c-single-comment']\")\n",
    "        # for i in range (5):\n",
    "        #     for c in comment:\n",
    "        #         try:\n",
    "        #             time.sleep(1)\n",
    "        #             a=driver.find_element_by_class_name(\"is-showmore\")\n",
    "        #             driver.execute_script(\"arguments[0].click();\", a)\n",
    "        #         except NoSuchElementException:\n",
    "        #             print (\"No read more\")\n",
    "        #         except WebDriverException:\n",
    "        #             continue\n",
    "        try:\n",
    "          for c in comment:\n",
    "             pageReview.append(c.text)\n",
    "          metaReview.append(pageReview)\n",
    "        except:\n",
    "            continue\n",
    "        \n",
    "        print (len(metaReview))\n",
    "    \n",
    "    "
   ]
  },
  {
   "cell_type": "code",
   "execution_count": 6,
   "metadata": {
    "pycharm": {
     "is_executing": false
    }
   },
   "outputs": [],
   "source": [
    "#pageLinks=[]\n",
    "#Illinois\n",
    "#url=driver.get(\"https://www.healthgrades.com/usearch?what=Pediatrics&entityCode=PS740&where=IL&pageNum=1&sort.provider=bestmatch&state=IL\")\n",
    "#Michigan\n",
    "#url=driver.get(\"https://www.healthgrades.com/usearch?what=Obstetrics%20%26%20Gynecology&entityCode=PS574&searchType=PracticingSpeciality&spec=45&where=MI&pageNum=1&isStandalone=undefined&state=MI&source=Solr&isStateOnly=true\")\n",
    "#Ohio\n",
    "#url=driver.get(\"https://www.healthgrades.com/usearch?what=Obstetrics%20%26%20Gynecology&entityCode=PS574&searchType=PracticingSpeciality&spec=45&where=OH&pageNum=1&isStandalone=undefined&state=OH&source=Solr&isStateOnly=true\")\n",
    "#NY\n",
    "#url=driver.get(\"https://www.healthgrades.com/usearch?what=Obstetrics%20%26%20Gynecology&entityCode=PS574&searchType=PracticingSpeciality&spec=45&where=NY&pageNum=1&isStandalone=undefined&state=NY&source=Solr&isStateOnly=true\")\n",
    "#PA\n",
    "#url=driver.get(\"https://www.healthgrades.com/usearch?what=Obstetrics%20%26%20Gynecology&entityCode=PS574&searchType=PracticingSpeciality&spec=45&where=PA&pageNum=1&isStandalone=undefined&state=PA&source=Solr&isStateOnly=true\")\n",
    "#IN\n",
    "#url=driver.get(\"https://www.healthgrades.com/usearch?what=Obstetrics%20%26%20Gynecology&entityCode=PS574&searchType=PracticingSpeciality&spec=45&where=IN&pageNum=1&isStandalone=undefined&state=IN&source=Solr&isStateOnly=true\")\n",
    "\n",
    "\n",
    "\n",
    "    #driver.find_element_by_xpath(\"//a[@data-hgoname='next page']\").click()\n",
    "    #driver.execute_script(\"return arguments[0].scrollIntoView(true);\", WebDriverWait(driver, 30).until(EC.element_to_be_clickable((By.XPATH, \"//li[@class='arrow__right']/a\"))))\n",
    "    #driver.find_element_by_xpath('//div/*[name()=\"a\"]/*[@class=\"_10fvg\"]/*[name()=\"svg\"]/*[@class=\"_21N_J _3LZYx _34uRi _3qfwP\"]/*[@aria-label=\"Next page\"]').click()\n",
    "    #driver.find_element_by_xpath(\"//*[@id='usearch-container']/div/main/div[1]/ul/li/nav/ul/li[10]/a/svg\").click()\n",
    "#for i in range(4):\n",
    "    #time.sleep(40)\n",
    "# WebDriverWait(driver,40).until(EC.element_to_be_clickable((By.XPATH, \"//*[@id='usearch-container']/div/main/div[1]/ul/li/nav/ul/li[10]/a[@class='_10fvg']\"))).click()\n",
    "#     driver.find_element_by_xpath(\"//*[@id='usearch-container']/div/main/div[1]/ul/li/nav/ul/li[10]/a[@class='_10fvg']\").click() \n",
    "# source=driver.current_url\n",
    "# pageLinks.append(source)\n",
    "    #time.sleep(5)\n",
    "\n",
    "# WebDriverWait(driver,40).until(EC.element_to_be_clickable((By.XPATH, \"//*[@id='usearch-container']/div/main/div[1]/ul/li/nav/ul/li[10]/a[@class='_10fvg']\"))).click()\n",
    "#     #driver.find_element_by_xpath(\"//*[@id='usearch-container']/div/main/div[1]/ul/li/nav/ul/li[10]/a[@class='_10fvg']\").click() \n",
    "# source=driver.current_url\n",
    "# pageLinks.append(source)\n",
    "\n",
    "# WebDriverWait(driver,40).until(EC.element_to_be_clickable((By.XPATH, \"//*[@id='usearch-container']/div/main/div[1]/ul/li/nav/ul/li[10]/a[@class='_10fvg']\"))).click()\n",
    "#     #driver.find_element_by_xpath(\"//*[@id='usearch-container']/div/main/div[1]/ul/li/nav/ul/li[10]/a[@class='_10fvg']\").click() \n",
    "# source=driver.current_url\n",
    "# pageLinks.append(source)\n",
    "\n",
    "# WebDriverWait(driver,40).until(EC.element_to_be_clickable((By.XPATH, \"//*[@id='usearch-container']/div/main/div[1]/ul/li/nav/ul/li[10]/a[@class='_10fvg']\"))).click()\n",
    "#     #driver.find_element_by_xpath(\"//*[@id='usearch-container']/div/main/div[1]/ul/li/nav/ul/li[10]/a[@class='_10fvg']\").click() \n",
    "# source=driver.current_url\n",
    "# pageLinks.append(source)"
   ]
  },
  {
   "cell_type": "code",
   "execution_count": 7,
   "metadata": {
    "pycharm": {
     "is_executing": false,
     "name": "#%%\n"
    }
   },
   "outputs": [],
   "source": [
    "# for j in range(20):\n",
    "#     #time.sleep(35)\n",
    "#     WebDriverWait(driver,45).until(EC.element_to_be_clickable((By.XPATH, \"//*[@id='usearch-container']/div/main/div[1]/ul/li/nav/ul/li[9]/a[@class='_10fvg']\"))).click()\n",
    "#     #driver.find_element_by_xpath(\"//*[@id='usearch-container']/div/main/div[1]/ul/li/nav/ul/li[9]/a[@class='_10fvg']\").click() \n",
    "#     source=driver.current_url\n",
    "#     pageLinks.append(source)\n",
    "#     #time.sleep(5)"
   ]
  },
  {
   "cell_type": "code",
   "execution_count": 7,
   "metadata": {
    "pycharm": {
     "is_executing": false,
     "name": "#%%\n"
    }
   },
   "outputs": [
    {
     "ename": "NoSuchElementException",
     "evalue": "Message: no such element: Unable to locate element: {\"method\":\"xpath\",\"selector\":\"//*[@id='usearch-container']/div/main/div[1]/ul/li/nav/ul/li[9]/a[@class='_10fvg']\"}\n  (Session info: chrome=80.0.3987.149)\n",
     "output_type": "error",
     "traceback": [
      "\u001b[1;31m---------------------------------------------------------------------------\u001b[0m",
      "\u001b[1;31mNoSuchElementException\u001b[0m                    Traceback (most recent call last)",
      "\u001b[1;32m<ipython-input-7-9ed38d11936b>\u001b[0m in \u001b[0;36m<module>\u001b[1;34m\u001b[0m\n\u001b[0;32m      8\u001b[0m       \u001b[0mtime\u001b[0m\u001b[1;33m.\u001b[0m\u001b[0msleep\u001b[0m\u001b[1;33m(\u001b[0m\u001b[1;36m2\u001b[0m\u001b[1;33m)\u001b[0m\u001b[1;33m\u001b[0m\u001b[1;33m\u001b[0m\u001b[0m\n\u001b[1;32m----> 9\u001b[1;33m       \u001b[0melement\u001b[0m\u001b[1;33m=\u001b[0m\u001b[0mdriver\u001b[0m\u001b[1;33m.\u001b[0m\u001b[0mfind_element_by_xpath\u001b[0m\u001b[1;33m(\u001b[0m\u001b[1;34m\"//*[@id='usearch-container']/div/main/div[1]/ul/li/nav/ul/li[10]/a[@class='_10fvg']\"\u001b[0m\u001b[1;33m)\u001b[0m\u001b[1;33m\u001b[0m\u001b[1;33m\u001b[0m\u001b[0m\n\u001b[0m\u001b[0;32m     10\u001b[0m       \u001b[0mdriver\u001b[0m\u001b[1;33m.\u001b[0m\u001b[0mexecute_script\u001b[0m\u001b[1;33m(\u001b[0m\u001b[1;34m\"arguments[0].click();\"\u001b[0m\u001b[1;33m,\u001b[0m \u001b[0melement\u001b[0m\u001b[1;33m)\u001b[0m\u001b[1;33m\u001b[0m\u001b[1;33m\u001b[0m\u001b[0m\n",
      "\u001b[1;32mc:\\users\\sanghamitra\\appdata\\local\\programs\\python\\python38-32\\lib\\site-packages\\selenium\\webdriver\\remote\\webdriver.py\u001b[0m in \u001b[0;36mfind_element_by_xpath\u001b[1;34m(self, xpath)\u001b[0m\n\u001b[0;32m    393\u001b[0m         \"\"\"\n\u001b[1;32m--> 394\u001b[1;33m         \u001b[1;32mreturn\u001b[0m \u001b[0mself\u001b[0m\u001b[1;33m.\u001b[0m\u001b[0mfind_element\u001b[0m\u001b[1;33m(\u001b[0m\u001b[0mby\u001b[0m\u001b[1;33m=\u001b[0m\u001b[0mBy\u001b[0m\u001b[1;33m.\u001b[0m\u001b[0mXPATH\u001b[0m\u001b[1;33m,\u001b[0m \u001b[0mvalue\u001b[0m\u001b[1;33m=\u001b[0m\u001b[0mxpath\u001b[0m\u001b[1;33m)\u001b[0m\u001b[1;33m\u001b[0m\u001b[1;33m\u001b[0m\u001b[0m\n\u001b[0m\u001b[0;32m    395\u001b[0m \u001b[1;33m\u001b[0m\u001b[0m\n",
      "\u001b[1;32mc:\\users\\sanghamitra\\appdata\\local\\programs\\python\\python38-32\\lib\\site-packages\\selenium\\webdriver\\remote\\webdriver.py\u001b[0m in \u001b[0;36mfind_element\u001b[1;34m(self, by, value)\u001b[0m\n\u001b[0;32m    975\u001b[0m                 \u001b[0mvalue\u001b[0m \u001b[1;33m=\u001b[0m \u001b[1;34m'[name=\"%s\"]'\u001b[0m \u001b[1;33m%\u001b[0m \u001b[0mvalue\u001b[0m\u001b[1;33m\u001b[0m\u001b[1;33m\u001b[0m\u001b[0m\n\u001b[1;32m--> 976\u001b[1;33m         return self.execute(Command.FIND_ELEMENT, {\n\u001b[0m\u001b[0;32m    977\u001b[0m             \u001b[1;34m'using'\u001b[0m\u001b[1;33m:\u001b[0m \u001b[0mby\u001b[0m\u001b[1;33m,\u001b[0m\u001b[1;33m\u001b[0m\u001b[1;33m\u001b[0m\u001b[0m\n",
      "\u001b[1;32mc:\\users\\sanghamitra\\appdata\\local\\programs\\python\\python38-32\\lib\\site-packages\\selenium\\webdriver\\remote\\webdriver.py\u001b[0m in \u001b[0;36mexecute\u001b[1;34m(self, driver_command, params)\u001b[0m\n\u001b[0;32m    320\u001b[0m         \u001b[1;32mif\u001b[0m \u001b[0mresponse\u001b[0m\u001b[1;33m:\u001b[0m\u001b[1;33m\u001b[0m\u001b[1;33m\u001b[0m\u001b[0m\n\u001b[1;32m--> 321\u001b[1;33m             \u001b[0mself\u001b[0m\u001b[1;33m.\u001b[0m\u001b[0merror_handler\u001b[0m\u001b[1;33m.\u001b[0m\u001b[0mcheck_response\u001b[0m\u001b[1;33m(\u001b[0m\u001b[0mresponse\u001b[0m\u001b[1;33m)\u001b[0m\u001b[1;33m\u001b[0m\u001b[1;33m\u001b[0m\u001b[0m\n\u001b[0m\u001b[0;32m    322\u001b[0m             response['value'] = self._unwrap_value(\n",
      "\u001b[1;32mc:\\users\\sanghamitra\\appdata\\local\\programs\\python\\python38-32\\lib\\site-packages\\selenium\\webdriver\\remote\\errorhandler.py\u001b[0m in \u001b[0;36mcheck_response\u001b[1;34m(self, response)\u001b[0m\n\u001b[0;32m    241\u001b[0m             \u001b[1;32mraise\u001b[0m \u001b[0mexception_class\u001b[0m\u001b[1;33m(\u001b[0m\u001b[0mmessage\u001b[0m\u001b[1;33m,\u001b[0m \u001b[0mscreen\u001b[0m\u001b[1;33m,\u001b[0m \u001b[0mstacktrace\u001b[0m\u001b[1;33m,\u001b[0m \u001b[0malert_text\u001b[0m\u001b[1;33m)\u001b[0m\u001b[1;33m\u001b[0m\u001b[1;33m\u001b[0m\u001b[0m\n\u001b[1;32m--> 242\u001b[1;33m         \u001b[1;32mraise\u001b[0m \u001b[0mexception_class\u001b[0m\u001b[1;33m(\u001b[0m\u001b[0mmessage\u001b[0m\u001b[1;33m,\u001b[0m \u001b[0mscreen\u001b[0m\u001b[1;33m,\u001b[0m \u001b[0mstacktrace\u001b[0m\u001b[1;33m)\u001b[0m\u001b[1;33m\u001b[0m\u001b[1;33m\u001b[0m\u001b[0m\n\u001b[0m\u001b[0;32m    243\u001b[0m \u001b[1;33m\u001b[0m\u001b[0m\n",
      "\u001b[1;31mNoSuchElementException\u001b[0m: Message: no such element: Unable to locate element: {\"method\":\"xpath\",\"selector\":\"//*[@id='usearch-container']/div/main/div[1]/ul/li/nav/ul/li[10]/a[@class='_10fvg']\"}\n  (Session info: chrome=80.0.3987.149)\n",
      "\nDuring handling of the above exception, another exception occurred:\n",
      "\u001b[1;31mNoSuchElementException\u001b[0m                    Traceback (most recent call last)",
      "\u001b[1;32m<ipython-input-7-9ed38d11936b>\u001b[0m in \u001b[0;36m<module>\u001b[1;34m\u001b[0m\n\u001b[0;32m     16\u001b[0m       \u001b[1;32mcontinue\u001b[0m\u001b[1;33m\u001b[0m\u001b[1;33m\u001b[0m\u001b[0m\n\u001b[0;32m     17\u001b[0m     \u001b[1;32mexcept\u001b[0m\u001b[1;33m:\u001b[0m\u001b[1;33m\u001b[0m\u001b[1;33m\u001b[0m\u001b[0m\n\u001b[1;32m---> 18\u001b[1;33m       \u001b[0melement1\u001b[0m\u001b[1;33m=\u001b[0m\u001b[0mdriver\u001b[0m\u001b[1;33m.\u001b[0m\u001b[0mfind_element_by_xpath\u001b[0m\u001b[1;33m(\u001b[0m\u001b[1;34m\"//*[@id='usearch-container']/div/main/div[1]/ul/li/nav/ul/li[9]/a[@class='_10fvg']\"\u001b[0m\u001b[1;33m)\u001b[0m\u001b[1;33m\u001b[0m\u001b[1;33m\u001b[0m\u001b[0m\n\u001b[0m\u001b[0;32m     19\u001b[0m       \u001b[0mdriver\u001b[0m\u001b[1;33m.\u001b[0m\u001b[0mexecute_script\u001b[0m\u001b[1;33m(\u001b[0m\u001b[1;34m\"arguments[0].click();\"\u001b[0m\u001b[1;33m,\u001b[0m \u001b[0melement1\u001b[0m\u001b[1;33m)\u001b[0m\u001b[1;33m\u001b[0m\u001b[1;33m\u001b[0m\u001b[0m\n\u001b[0;32m     20\u001b[0m       \u001b[0mpageLinks\u001b[0m\u001b[1;33m.\u001b[0m\u001b[0mappend\u001b[0m\u001b[1;33m(\u001b[0m\u001b[0mdriver\u001b[0m\u001b[1;33m.\u001b[0m\u001b[0mcurrent_url\u001b[0m\u001b[1;33m)\u001b[0m\u001b[1;33m\u001b[0m\u001b[1;33m\u001b[0m\u001b[0m\n",
      "\u001b[1;32mc:\\users\\sanghamitra\\appdata\\local\\programs\\python\\python38-32\\lib\\site-packages\\selenium\\webdriver\\remote\\webdriver.py\u001b[0m in \u001b[0;36mfind_element_by_xpath\u001b[1;34m(self, xpath)\u001b[0m\n\u001b[0;32m    392\u001b[0m             \u001b[0melement\u001b[0m \u001b[1;33m=\u001b[0m \u001b[0mdriver\u001b[0m\u001b[1;33m.\u001b[0m\u001b[0mfind_element_by_xpath\u001b[0m\u001b[1;33m(\u001b[0m\u001b[1;34m'//div/td[1]'\u001b[0m\u001b[1;33m)\u001b[0m\u001b[1;33m\u001b[0m\u001b[1;33m\u001b[0m\u001b[0m\n\u001b[0;32m    393\u001b[0m         \"\"\"\n\u001b[1;32m--> 394\u001b[1;33m         \u001b[1;32mreturn\u001b[0m \u001b[0mself\u001b[0m\u001b[1;33m.\u001b[0m\u001b[0mfind_element\u001b[0m\u001b[1;33m(\u001b[0m\u001b[0mby\u001b[0m\u001b[1;33m=\u001b[0m\u001b[0mBy\u001b[0m\u001b[1;33m.\u001b[0m\u001b[0mXPATH\u001b[0m\u001b[1;33m,\u001b[0m \u001b[0mvalue\u001b[0m\u001b[1;33m=\u001b[0m\u001b[0mxpath\u001b[0m\u001b[1;33m)\u001b[0m\u001b[1;33m\u001b[0m\u001b[1;33m\u001b[0m\u001b[0m\n\u001b[0m\u001b[0;32m    395\u001b[0m \u001b[1;33m\u001b[0m\u001b[0m\n\u001b[0;32m    396\u001b[0m     \u001b[1;32mdef\u001b[0m \u001b[0mfind_elements_by_xpath\u001b[0m\u001b[1;33m(\u001b[0m\u001b[0mself\u001b[0m\u001b[1;33m,\u001b[0m \u001b[0mxpath\u001b[0m\u001b[1;33m)\u001b[0m\u001b[1;33m:\u001b[0m\u001b[1;33m\u001b[0m\u001b[1;33m\u001b[0m\u001b[0m\n",
      "\u001b[1;32mc:\\users\\sanghamitra\\appdata\\local\\programs\\python\\python38-32\\lib\\site-packages\\selenium\\webdriver\\remote\\webdriver.py\u001b[0m in \u001b[0;36mfind_element\u001b[1;34m(self, by, value)\u001b[0m\n\u001b[0;32m    974\u001b[0m                 \u001b[0mby\u001b[0m \u001b[1;33m=\u001b[0m \u001b[0mBy\u001b[0m\u001b[1;33m.\u001b[0m\u001b[0mCSS_SELECTOR\u001b[0m\u001b[1;33m\u001b[0m\u001b[1;33m\u001b[0m\u001b[0m\n\u001b[0;32m    975\u001b[0m                 \u001b[0mvalue\u001b[0m \u001b[1;33m=\u001b[0m \u001b[1;34m'[name=\"%s\"]'\u001b[0m \u001b[1;33m%\u001b[0m \u001b[0mvalue\u001b[0m\u001b[1;33m\u001b[0m\u001b[1;33m\u001b[0m\u001b[0m\n\u001b[1;32m--> 976\u001b[1;33m         return self.execute(Command.FIND_ELEMENT, {\n\u001b[0m\u001b[0;32m    977\u001b[0m             \u001b[1;34m'using'\u001b[0m\u001b[1;33m:\u001b[0m \u001b[0mby\u001b[0m\u001b[1;33m,\u001b[0m\u001b[1;33m\u001b[0m\u001b[1;33m\u001b[0m\u001b[0m\n\u001b[0;32m    978\u001b[0m             'value': value})['value']\n",
      "\u001b[1;32mc:\\users\\sanghamitra\\appdata\\local\\programs\\python\\python38-32\\lib\\site-packages\\selenium\\webdriver\\remote\\webdriver.py\u001b[0m in \u001b[0;36mexecute\u001b[1;34m(self, driver_command, params)\u001b[0m\n\u001b[0;32m    319\u001b[0m         \u001b[0mresponse\u001b[0m \u001b[1;33m=\u001b[0m \u001b[0mself\u001b[0m\u001b[1;33m.\u001b[0m\u001b[0mcommand_executor\u001b[0m\u001b[1;33m.\u001b[0m\u001b[0mexecute\u001b[0m\u001b[1;33m(\u001b[0m\u001b[0mdriver_command\u001b[0m\u001b[1;33m,\u001b[0m \u001b[0mparams\u001b[0m\u001b[1;33m)\u001b[0m\u001b[1;33m\u001b[0m\u001b[1;33m\u001b[0m\u001b[0m\n\u001b[0;32m    320\u001b[0m         \u001b[1;32mif\u001b[0m \u001b[0mresponse\u001b[0m\u001b[1;33m:\u001b[0m\u001b[1;33m\u001b[0m\u001b[1;33m\u001b[0m\u001b[0m\n\u001b[1;32m--> 321\u001b[1;33m             \u001b[0mself\u001b[0m\u001b[1;33m.\u001b[0m\u001b[0merror_handler\u001b[0m\u001b[1;33m.\u001b[0m\u001b[0mcheck_response\u001b[0m\u001b[1;33m(\u001b[0m\u001b[0mresponse\u001b[0m\u001b[1;33m)\u001b[0m\u001b[1;33m\u001b[0m\u001b[1;33m\u001b[0m\u001b[0m\n\u001b[0m\u001b[0;32m    322\u001b[0m             response['value'] = self._unwrap_value(\n\u001b[0;32m    323\u001b[0m                 response.get('value', None))\n",
      "\u001b[1;32mc:\\users\\sanghamitra\\appdata\\local\\programs\\python\\python38-32\\lib\\site-packages\\selenium\\webdriver\\remote\\errorhandler.py\u001b[0m in \u001b[0;36mcheck_response\u001b[1;34m(self, response)\u001b[0m\n\u001b[0;32m    240\u001b[0m                 \u001b[0malert_text\u001b[0m \u001b[1;33m=\u001b[0m \u001b[0mvalue\u001b[0m\u001b[1;33m[\u001b[0m\u001b[1;34m'alert'\u001b[0m\u001b[1;33m]\u001b[0m\u001b[1;33m.\u001b[0m\u001b[0mget\u001b[0m\u001b[1;33m(\u001b[0m\u001b[1;34m'text'\u001b[0m\u001b[1;33m)\u001b[0m\u001b[1;33m\u001b[0m\u001b[1;33m\u001b[0m\u001b[0m\n\u001b[0;32m    241\u001b[0m             \u001b[1;32mraise\u001b[0m \u001b[0mexception_class\u001b[0m\u001b[1;33m(\u001b[0m\u001b[0mmessage\u001b[0m\u001b[1;33m,\u001b[0m \u001b[0mscreen\u001b[0m\u001b[1;33m,\u001b[0m \u001b[0mstacktrace\u001b[0m\u001b[1;33m,\u001b[0m \u001b[0malert_text\u001b[0m\u001b[1;33m)\u001b[0m\u001b[1;33m\u001b[0m\u001b[1;33m\u001b[0m\u001b[0m\n\u001b[1;32m--> 242\u001b[1;33m         \u001b[1;32mraise\u001b[0m \u001b[0mexception_class\u001b[0m\u001b[1;33m(\u001b[0m\u001b[0mmessage\u001b[0m\u001b[1;33m,\u001b[0m \u001b[0mscreen\u001b[0m\u001b[1;33m,\u001b[0m \u001b[0mstacktrace\u001b[0m\u001b[1;33m)\u001b[0m\u001b[1;33m\u001b[0m\u001b[1;33m\u001b[0m\u001b[0m\n\u001b[0m\u001b[0;32m    243\u001b[0m \u001b[1;33m\u001b[0m\u001b[0m\n\u001b[0;32m    244\u001b[0m     \u001b[1;32mdef\u001b[0m \u001b[0m_value_or_default\u001b[0m\u001b[1;33m(\u001b[0m\u001b[0mself\u001b[0m\u001b[1;33m,\u001b[0m \u001b[0mobj\u001b[0m\u001b[1;33m,\u001b[0m \u001b[0mkey\u001b[0m\u001b[1;33m,\u001b[0m \u001b[0mdefault\u001b[0m\u001b[1;33m)\u001b[0m\u001b[1;33m:\u001b[0m\u001b[1;33m\u001b[0m\u001b[1;33m\u001b[0m\u001b[0m\n",
      "\u001b[1;31mNoSuchElementException\u001b[0m: Message: no such element: Unable to locate element: {\"method\":\"xpath\",\"selector\":\"//*[@id='usearch-container']/div/main/div[1]/ul/li/nav/ul/li[9]/a[@class='_10fvg']\"}\n  (Session info: chrome=80.0.3987.149)\n"
     ]
    }
   ],
   "source": [
    "pageLinks=[]\n",
    "#Illinois\n",
    "url=driver.get(\"https://www.healthgrades.com/usearch?what=Pediatrics&entityCode=PS740&where=IL&pageNum=1&sort.provider=bestmatch&state=IL\")\n",
    "pageLinks.append(url)\n",
    "listhref=[]\n",
    "for k in range(109):\n",
    "    try:\n",
    "      time.sleep(2)\n",
    "      element=driver.find_element_by_xpath(\"//*[@id='usearch-container']/div/main/div[1]/ul/li/nav/ul/li[10]/a[@class='_10fvg']\")\n",
    "      driver.execute_script(\"arguments[0].click();\", element)\n",
    "      pageLinks.append(driver.current_url)\n",
    "      #hr=ell.get_attribute(\"href\")\n",
    "      #print(hr)\n",
    "      #ell.click()\n",
    "    except ConnectionResetError:\n",
    "      continue\n",
    "    except:\n",
    "      element1=driver.find_element_by_xpath(\"//*[@id='usearch-container']/div/main/div[1]/ul/li/nav/ul/li[9]/a[@class='_10fvg']\")\n",
    "      driver.execute_script(\"arguments[0].click();\", element1)\n",
    "      pageLinks.append(driver.current_url)\n",
    "      continue\n",
    "pageLinks.append(driver.current_url)\n",
    "\n",
    "#print(len(listhref))\n",
    "#print(listhref)\n",
    "#pageLinks.append('https://www.healthgrades.com/usearch?what=Pediatrics&entityCode=PS740&searchType=PracticingSpecialty&where=Chicago%2C%20IL&pt=41.875621%2C-87.624371&pageNum=1&sort.provider=bestmatch')\n",
    "#pageLinks.append('https://www.healthgrades.com/usearch?what=Pediatrics&entityCode=PS740&searchType=PracticingSpecialty&where=Chicago%2C%20IL&pt=41.875621%2C-87.624371&pageNum=2&sort.provider=bestmatch')\n",
    "#pageLinks.append('https://www.healthgrades.com/usearch?what=Pediatrics&entityCode=PS740&searchType=PracticingSpecialty&where=Chicago%2C%20IL&pt=41.875621%2C-87.624371&pageNum=3&sort.provider=bestmatch')\n",
    "\n",
    "#pageLinks.append('https://www.healthgrades.com/usearch?what=Pediatrics&entityCode=PS740&where=IL&pageNum=1&sort.provider=bestmatch&state=IL')\n",
    "#pageLinks.append('https://www.healthgrades.com/usearch?what=Pediatrics&entityCode=PS740&where=IL&pageNum=2&sort.provider=bestmatch&state=IL')"
   ]
  },
  {
   "cell_type": "code",
   "execution_count": 9,
   "metadata": {
    "pycharm": {
     "is_executing": false
    }
   },
   "outputs": [],
   "source": [
    "pageLinks.remove(None)\n",
    "pageLinks.append(driver.current_url)\n",
    "seen = set()\n",
    "result = []\n",
    "for item in pageLinks:\n",
    "    if item not in seen:\n",
    "        seen.add(item)\n",
    "        result.append(item)"
   ]
  },
  {
   "cell_type": "code",
   "execution_count": 10,
   "metadata": {
    "pycharm": {
     "is_executing": false
    }
   },
   "outputs": [
    {
     "name": "stdout",
     "output_type": "stream",
     "text": [
      "111\n"
     ]
    }
   ],
   "source": [
    "print(len(pageLinks))"
   ]
  },
  {
   "cell_type": "code",
   "execution_count": 11,
   "metadata": {
    "pycharm": {
     "is_executing": false
    },
    "scrolled": false
   },
   "outputs": [
    {
     "name": "stdout",
     "output_type": "stream",
     "text": [
      "https://www.healthgrades.com/usearch?what=Pediatrics&entityCode=PS740&where=IL&pageNum=1&sort.provider=bestmatch&state=IL\n",
      "[]\n",
      "0\n",
      "0\n",
      "0\n",
      "0\n",
      "0\n",
      "0\n",
      "0\n",
      "https://www.healthgrades.com/usearch?what=Pediatrics&entityCode=PS740&where=IL&pageNum=2&sort.provider=bestmatch&state=IL\n",
      "['https://www.healthgrades.com/physician/dr-kurt-martin-xs9g2', 'https://www.healthgrades.com/physician/dr-allen-castillo-388wt', 'https://www.healthgrades.com/physician/dr-saba-ahmad-27xnn', 'https://www.healthgrades.com/physician/dr-amishi-murthy-y4tsq', 'https://www.healthgrades.com/physician/dr-eugenia-hahn-ylq5f', 'https://www.healthgrades.com/physician/dr-annie-emmick-yngdk', 'tel:6303264436', 'https://www.healthgrades.com/physician/dr-mina-farhadieh-yksh5', 'https://www.healthgrades.com/physician/dr-kristina-keating-xnxry', 'https://www.healthgrades.com/physician/dr-john-bandy-2h889', 'https://www.healthgrades.com/physician/dr-james-pollock-2ds95', 'https://www.healthgrades.com/physician/dr-susan-chua-apolinario-xfw9y', 'https://www.healthgrades.com/physician/dr-minal-giri-2mn5y', 'https://www.healthgrades.com/physician/dr-thomas-herr-3fdyr', 'https://www.healthgrades.com/physician/dr-pisit-rangsithienchai-xy7m7', 'https://www.healthgrades.com/physician/dr-nada-al-dallal-35lk3', 'https://www.healthgrades.com/physician/dr-sissay-anberber-ylnxt', 'https://www.healthgrades.com/physician/dr-divya-gupta-3rgq9', 'tel:3127674365', 'https://www.healthgrades.com/physician/dr-alin-abraham-x37vt', 'tel:6303264436', 'https://www.healthgrades.com/physician/dr-gary-reschak-xgqvs', 'tel:8152553312', 'https://www.healthgrades.com/physician/dr-katherine-fitzgerald-3gf8l', 'https://www.healthgrades.com/physician/dr-brian-moshier-x8t8v', 'https://www.healthgrades.com/physician/dr-leah-durst-y2yk3', 'https://www.healthgrades.com/physician/dr-mary-mikhailov-y64j5', 'tel:6303264436', 'https://www.healthgrades.com/physician/dr-nirmala-arora-y85mb', 'https://www.healthgrades.com/physician/dr-haile-neptune-35ppb', 'https://www.healthgrades.com/physician/dr-julian-tang-36kcj', 'https://www.healthgrades.com/physician/dr-anders-brodd-x9vg9', 'https://www.healthgrades.com/physician/dr-michael-bauer-yjd64', 'https://www.healthgrades.com/physician/dr-laura-uselding-xl4tx', 'tel:6307016037', 'https://www.healthgrades.com/physician/dr-charles-frey-yg2g4', 'https://www.healthgrades.com/physician/dr-kevin-cronin-yfqkg', 'https://www.healthgrades.com/physician/dr-dolly-thomas-y7gwj', 'https://www.healthgrades.com/physician/dr-aileen-donausky-2gxf5', 'https://www.healthgrades.com/physician/dr-kalyan-sandesara-362d4', 'https://www.healthgrades.com/physician/dr-mandana-farhadieh-3y4yc', 'https://www.healthgrades.com/physician/dr-maria-dana-sutkus-yhc7c', 'tel:6307016037', 'https://www.healthgrades.com/usearch?what=Pediatrics&entityCode=PS740&where=IL&pageNum=1&sort.provider=bestmatch&state=IL', 'https://www.healthgrades.com/usearch?what=Pediatrics&entityCode=PS740&where=IL&pageNum=1&sort.provider=bestmatch&state=IL', 'https://www.healthgrades.com/usearch?what=Pediatrics&entityCode=PS740&where=IL&pageNum=3&sort.provider=bestmatch&state=IL', 'https://www.healthgrades.com/usearch?what=Pediatrics&entityCode=PS740&where=IL&pageNum=4&sort.provider=bestmatch&state=IL', 'https://www.healthgrades.com/usearch?what=Pediatrics&entityCode=PS740&where=IL&pageNum=5&sort.provider=bestmatch&state=IL', 'https://www.healthgrades.com/usearch?what=Pediatrics&entityCode=PS740&where=IL&pageNum=110&sort.provider=bestmatch&state=IL', 'https://www.healthgrades.com/usearch?what=Pediatrics&entityCode=PS740&where=IL&pageNum=3&sort.provider=bestmatch&state=IL', None]\n",
      "43\n",
      "43\n",
      "43\n",
      "43\n",
      "43\n",
      "43\n",
      "43\n",
      "https://www.healthgrades.com/usearch?what=Pediatrics&entityCode=PS740&where=IL&pageNum=3&sort.provider=bestmatch&state=IL\n",
      "['https://www.healthgrades.com/physician/dr-cheng-lin-2hw95', 'https://www.healthgrades.com/physician/dr-heather-begley-gdy2h', 'https://www.healthgrades.com/physician/dr-voraphot-sathissarat-2gf6c', 'https://www.healthgrades.com/physician/dr-zlatka-jeliazkova-xnyhr', 'https://www.healthgrades.com/physician/dr-roohi-wasiuddin-x555f', 'https://www.healthgrades.com/physician/dr-amiinah-kung-2sdj6', 'https://www.healthgrades.com/physician/dr-ayesha-siddiqi-xyjs3', 'https://www.healthgrades.com/physician/dr-shubhada-lawande-x7bfn', 'tel:6307016037', 'https://www.healthgrades.com/physician/dr-josephine-wang-3y3l2', 'https://www.healthgrades.com/physician/dr-ira-kumar-35fll', 'https://www.healthgrades.com/physician/dr-rupal-upadhyay-39wbr', 'https://www.healthgrades.com/physician/dr-anjali-kher-x4hc7', 'tel:6307016037', 'https://www.healthgrades.com/physician/dr-william-klipfel-y94s2', 'https://www.healthgrades.com/physician/dr-hayley-dreyfuss-gdh9x', 'https://www.healthgrades.com/physician/dr-loretta-baustian-2c4b5', 'https://www.healthgrades.com/physician/dr-mohamed-jabri-x5xw6', 'https://www.healthgrades.com/physician/dr-annita-john-xrc35', 'https://www.healthgrades.com/physician/dr-neela-patel-xy426', 'https://www.healthgrades.com/physician/dr-amna-khan-5el4z', 'https://www.healthgrades.com/physician/dr-shrikant-mehta-x6svy', 'https://www.healthgrades.com/physician/dr-diane-nielsen-x9w9n', 'https://www.healthgrades.com/physician/dr-cyrus-akrami-x7cng', 'https://www.healthgrades.com/physician/dr-shanthi-gopi-xbrt9', 'https://www.healthgrades.com/physician/dr-jihad-shoshara-2vkyp', 'tel:6307016037', 'https://www.healthgrades.com/physician/dr-michael-hoffman-xmq5r', 'tel:6303380204', 'https://www.healthgrades.com/physician/dr-andrea-pappalardo-y2c79', 'https://www.healthgrades.com/physician/dr-kenneth-porter-3c7gv', 'https://www.healthgrades.com/physician/dr-pratip-nag-2qyvb', 'https://www.healthgrades.com/physician/dr-anne-goodenow-3s462', 'tel:3125743157', 'https://www.healthgrades.com/physician/dr-varsha-shah-yhg2m', 'tel:6303380204', 'https://www.healthgrades.com/physician/dr-shahida-tanveer-3d64g', 'tel:6303380204', 'https://www.healthgrades.com/physician/dr-christopher-santi-273hr', 'tel:6303264436', 'https://www.healthgrades.com/physician/dr-pierre-raad-xtdm5', 'https://www.healthgrades.com/physician/dr-alexis-bond-gc8t7', 'https://www.healthgrades.com/physician/dr-sahar-rida-2yw6w', 'https://www.healthgrades.com/physician/dr-faith-myers-yjd9w', 'tel:6307016037', 'https://www.healthgrades.com/usearch?what=Pediatrics&entityCode=PS740&where=IL&pageNum=2&sort.provider=bestmatch&state=IL', 'https://www.healthgrades.com/usearch?what=Pediatrics&entityCode=PS740&where=IL&pageNum=1&sort.provider=bestmatch&state=IL', 'https://www.healthgrades.com/usearch?what=Pediatrics&entityCode=PS740&where=IL&pageNum=2&sort.provider=bestmatch&state=IL', 'https://www.healthgrades.com/usearch?what=Pediatrics&entityCode=PS740&where=IL&pageNum=4&sort.provider=bestmatch&state=IL', 'https://www.healthgrades.com/usearch?what=Pediatrics&entityCode=PS740&where=IL&pageNum=5&sort.provider=bestmatch&state=IL', 'https://www.healthgrades.com/usearch?what=Pediatrics&entityCode=PS740&where=IL&pageNum=110&sort.provider=bestmatch&state=IL', 'https://www.healthgrades.com/usearch?what=Pediatrics&entityCode=PS740&where=IL&pageNum=4&sort.provider=bestmatch&state=IL', None]\n",
      "43\n",
      "86\n",
      "86\n",
      "86\n",
      "86\n",
      "86\n",
      "86\n",
      "https://www.healthgrades.com/usearch?what=Pediatrics&entityCode=PS740&where=IL&pageNum=4&sort.provider=bestmatch&state=IL\n",
      "['https://www.healthgrades.com/physician/dr-uma-gavani-xbkn9', 'https://www.healthgrades.com/physician/dr-luis-rueda-279mw', 'https://www.healthgrades.com/physician/dr-brian-emm-xcw3l', 'https://www.healthgrades.com/physician/dr-lisa-martin-3g54d', 'https://www.healthgrades.com/physician/dr-samir-suleiman-36frq', 'https://www.healthgrades.com/physician/dr-barry-miller-xj7bl', 'https://www.healthgrades.com/physician/dr-eugene-schnitzler-ysnk6', 'https://www.healthgrades.com/physician/dr-douglas-ashley-2d9ld', 'https://www.healthgrades.com/physician/dr-sarah-breen-g9754', 'https://www.healthgrades.com/physician/dr-renu-jain-xrwjm', 'tel:6303380204', 'https://www.healthgrades.com/physician/dr-shashikant-kudchadker-32gpc', 'tel:6307016037', 'https://www.healthgrades.com/physician/dr-lin-roberts-y9j2t', 'https://www.healthgrades.com/physician/dr-hina-nawab-xtsl9', 'https://www.healthgrades.com/physician/dr-elizabeth-dahlberg-3bc6h', 'https://www.healthgrades.com/physician/dr-jeffrey-lehman-ysnjb', 'https://www.healthgrades.com/physician/dr-lester-fahrner-yltgh', 'https://www.healthgrades.com/physician/dr-rachel-robison-xrqfc', 'https://www.healthgrades.com/physician/dr-marianne-senese-y3s95', 'tel:6303380204', 'https://www.healthgrades.com/appointment/landing/Y3S95?source=CommonComponent', 'https://www.healthgrades.com/appointment/landing/Y3S95?source=CommonComponent', 'https://www.healthgrades.com/physician/dr-dante-gabriel-3y27n', 'https://www.healthgrades.com/physician/dr-elizabeth-stringer-gdbg2', 'https://www.healthgrades.com/physician/dr-jeffrey-roleck-x4tqr', 'https://www.healthgrades.com/physician/dr-maria-rivera-2bh2n', 'https://www.healthgrades.com/physician/dr-todd-giese-3g423', 'https://www.healthgrades.com/physician/dr-julie-lopatka-37ndk', 'tel:6303380204', 'https://www.healthgrades.com/appointment/landing/37NDK?source=CommonComponent', 'https://www.healthgrades.com/appointment/landing/37NDK?source=CommonComponent', 'https://www.healthgrades.com/physician/dr-adam-kost-g2wwh', 'https://www.healthgrades.com/physician/dr-fouad-al-qawasmi-x24dp', 'https://www.healthgrades.com/physician/dr-michael-merry-y29nc', 'https://www.healthgrades.com/physician/dr-teekam-lohano-gw6n9', 'https://www.healthgrades.com/physician/dr-ioanna-vateva-2ynnf', 'https://www.healthgrades.com/physician/dr-anna-bunploog-lane-xfllg', 'https://www.healthgrades.com/physician/dr-nicholas-moy-26qht', 'https://www.healthgrades.com/physician/dr-christopher-mullett-xnwlc', 'https://www.healthgrades.com/physician/dr-robert-riech-355rb', 'https://www.healthgrades.com/physician/dr-seta-sultanian-xtcjx', 'https://www.healthgrades.com/physician/dr-nashmia-qamar-ysd57', 'https://www.healthgrades.com/physician/dr-syed-hussaini-2qcdy', 'https://www.healthgrades.com/usearch?what=Pediatrics&entityCode=PS740&where=IL&pageNum=3&sort.provider=bestmatch&state=IL', 'https://www.healthgrades.com/usearch?what=Pediatrics&entityCode=PS740&where=IL&pageNum=1&sort.provider=bestmatch&state=IL', 'https://www.healthgrades.com/usearch?what=Pediatrics&entityCode=PS740&where=IL&pageNum=2&sort.provider=bestmatch&state=IL', 'https://www.healthgrades.com/usearch?what=Pediatrics&entityCode=PS740&where=IL&pageNum=3&sort.provider=bestmatch&state=IL', 'https://www.healthgrades.com/usearch?what=Pediatrics&entityCode=PS740&where=IL&pageNum=5&sort.provider=bestmatch&state=IL', 'https://www.healthgrades.com/usearch?what=Pediatrics&entityCode=PS740&where=IL&pageNum=110&sort.provider=bestmatch&state=IL', 'https://www.healthgrades.com/usearch?what=Pediatrics&entityCode=PS740&where=IL&pageNum=5&sort.provider=bestmatch&state=IL', None]\n",
      "47\n",
      "133\n",
      "133\n",
      "133\n",
      "133\n",
      "133\n",
      "133\n",
      "https://www.healthgrades.com/usearch?what=Pediatrics&entityCode=PS740&where=IL&pageNum=5&sort.provider=bestmatch&state=IL\n",
      "['https://www.healthgrades.com/physician/dr-karen-burton-3j83v', 'https://www.healthgrades.com/physician/dr-george-gancayco-xdfry', 'https://www.healthgrades.com/physician/dr-robert-boton-yhbn4', 'https://www.healthgrades.com/physician/dr-boris-lelchuk-26lw8', 'https://www.healthgrades.com/physician/dr-richard-kyi-yc8r3', 'https://www.healthgrades.com/physician/dr-mohammad-khan-2nrwc', 'https://www.healthgrades.com/physician/dr-erin-blackburn-xyll3j8', 'tel:2177173757', 'https://www.healthgrades.com/physician/dr-richard-wagoner-2sfbl', 'https://www.healthgrades.com/physician/dr-lisa-villanueva-xkg93', 'https://www.healthgrades.com/physician/dr-jalal-rais-dana-369xl', 'https://www.healthgrades.com/physician/dr-joseph-russell-x2hyy', 'tel:6307016037', 'https://www.healthgrades.com/physician/dr-darius-radvila-3r9w9', 'tel:6303380204', 'https://www.healthgrades.com/appointment/landing/3R9W9?source=CommonComponent', 'https://www.healthgrades.com/physician/dr-richard-ceragioli-25gbc', 'https://www.healthgrades.com/physician/dr-rebecca-smeraglinolo-3rqyl', 'https://www.healthgrades.com/physician/dr-mark-regnier-398kj', 'https://www.healthgrades.com/physician/dr-mark-brinkman-3bg4b', 'https://www.healthgrades.com/physician/dr-shelly-flais-yxg6q', 'https://www.healthgrades.com/physician/dr-veronica-savage-2scfx', 'https://www.healthgrades.com/physician/dr-carlos-miranda-3mtpx', 'https://www.healthgrades.com/physician/dr-jessica-grygotis-2pg44', 'https://www.healthgrades.com/physician/dr-procopio-yanong-x3dqk', 'https://www.healthgrades.com/physician/dr-patricia-arroyo-2slmt', 'https://www.healthgrades.com/physician/dr-alejandro-clavier-yrcqv', 'https://www.healthgrades.com/physician/dr-vikram-agrawal-y9wcq', 'https://www.healthgrades.com/physician/dr-nithya-sunder-xq44l', 'tel:6307016037', 'https://www.healthgrades.com/physician/dr-christine-boyd-26v9b', 'https://www.healthgrades.com/physician/dr-william-crevier-xxpkv', 'https://www.healthgrades.com/physician/dr-kenneth-arnett-xk6ct', 'https://www.healthgrades.com/physician/dr-moyeed-akhtar-24q3k', 'https://www.healthgrades.com/physician/dr-randolph-mccrea-2lhkg', 'https://www.healthgrades.com/physician/dr-loris-rayner-yvbxb', 'https://www.healthgrades.com/physician/dr-robert-kellow-2xtmf', 'https://www.healthgrades.com/physician/dr-daniel-niebrugge-xkh74', 'https://www.healthgrades.com/physician/dr-sara-platte-2nhtn', 'https://www.healthgrades.com/physician/dr-barry-weaver-g372b', 'https://www.healthgrades.com/physician/dr-raymond-castaldo-2vtvj', 'https://www.healthgrades.com/usearch?what=Pediatrics&entityCode=PS740&where=IL&pageNum=4&sort.provider=bestmatch&state=IL', 'https://www.healthgrades.com/usearch?what=Pediatrics&entityCode=PS740&where=IL&pageNum=1&sort.provider=bestmatch&state=IL', 'https://www.healthgrades.com/usearch?what=Pediatrics&entityCode=PS740&where=IL&pageNum=4&sort.provider=bestmatch&state=IL', 'https://www.healthgrades.com/usearch?what=Pediatrics&entityCode=PS740&where=IL&pageNum=6&sort.provider=bestmatch&state=IL', 'https://www.healthgrades.com/usearch?what=Pediatrics&entityCode=PS740&where=IL&pageNum=110&sort.provider=bestmatch&state=IL', 'https://www.healthgrades.com/usearch?what=Pediatrics&entityCode=PS740&where=IL&pageNum=6&sort.provider=bestmatch&state=IL', None]\n",
      "43\n",
      "176\n",
      "176\n",
      "176\n",
      "176\n",
      "176\n",
      "176\n",
      "https://www.healthgrades.com/usearch?what=Pediatrics&entityCode=PS740&where=IL&pageNum=6&sort.provider=bestmatch&state=IL\n",
      "['https://www.healthgrades.com/physician/dr-paul-aschinberg-2dmrd', 'https://www.healthgrades.com/physician/dr-steven-antonini-y4v6y', 'https://www.healthgrades.com/physician/dr-abdul-malhes-xsxrh', 'https://www.healthgrades.com/physician/dr-jamie-gancayco-285m9', 'https://www.healthgrades.com/physician/dr-rachel-levin-y97yx', 'tel:6303380204', 'https://www.healthgrades.com/physician/dr-jerome-gronli-ysytl', 'https://www.healthgrades.com/physician/dr-lisa-sullivan-29xnb', 'https://www.healthgrades.com/physician/dr-fatima-mohiuddin-ykjdl', 'https://www.healthgrades.com/physician/dr-michael-clark-xgmfw', 'tel:6303380204', 'https://www.healthgrades.com/physician/dr-wynn-sheade-yw6db', 'https://www.healthgrades.com/physician/dr-susan-crawford-3g3np', 'https://www.healthgrades.com/physician/dr-tahir-niazi-yns3c', 'https://www.healthgrades.com/physician/dr-katherine-hidaka-3jt56', 'https://www.healthgrades.com/physician/dr-leigh-sterling-34tyr', 'https://www.healthgrades.com/physician/dr-gary-carpenter-28vvk', 'https://www.healthgrades.com/physician/dr-nicole-mozden-2fjx6', 'https://www.healthgrades.com/physician/dr-charles-johnston-xjjv5', 'https://www.healthgrades.com/physician/dr-william-ray-xlyr4', 'https://www.healthgrades.com/physician/dr-diana-guse-gcmn3', 'https://www.healthgrades.com/physician/dr-edwin-pascual-yyqt7', 'https://www.healthgrades.com/physician/dr-eleanor-shaw-xnmwl', 'https://www.healthgrades.com/physician/dr-david-vermillion-xdx5r', 'https://www.healthgrades.com/physician/dr-jonathan-powell-2hq3t', 'https://www.healthgrades.com/physician/dr-andrea-stampley-yrqcs', 'https://www.healthgrades.com/physician/dr-joann-ruiz-xhgx7', 'https://www.healthgrades.com/physician/dr-merrick-bromberg-2ywhj', 'tel:6303380204', 'https://www.healthgrades.com/physician/dr-james-mikeworth-gcl6h', 'https://www.healthgrades.com/physician/dr-gina-song-y856x', 'tel:6303264436', 'https://www.healthgrades.com/physician/dr-guadalupe-bustamante-x6w93', 'https://www.healthgrades.com/physician/dr-lisa-gadek-x7r2j', 'https://www.healthgrades.com/physician/dr-sachin-shah-3ntnc', 'https://www.healthgrades.com/physician/dr-christopher-moen-xm4fl', 'https://www.healthgrades.com/physician/dr-vincent-fang-yjfv4', 'https://www.healthgrades.com/physician/dr-sofia-shakir-xp8n9', 'tel:6307016037', 'https://www.healthgrades.com/physician/dr-linda-tayeh-yhyj4', 'https://www.healthgrades.com/physician/dr-shelli-seebruch-xgmsb', 'https://www.healthgrades.com/usearch?what=Pediatrics&entityCode=PS740&where=IL&pageNum=5&sort.provider=bestmatch&state=IL', 'https://www.healthgrades.com/usearch?what=Pediatrics&entityCode=PS740&where=IL&pageNum=1&sort.provider=bestmatch&state=IL', 'https://www.healthgrades.com/usearch?what=Pediatrics&entityCode=PS740&where=IL&pageNum=5&sort.provider=bestmatch&state=IL', 'https://www.healthgrades.com/usearch?what=Pediatrics&entityCode=PS740&where=IL&pageNum=7&sort.provider=bestmatch&state=IL', 'https://www.healthgrades.com/usearch?what=Pediatrics&entityCode=PS740&where=IL&pageNum=110&sort.provider=bestmatch&state=IL', 'https://www.healthgrades.com/usearch?what=Pediatrics&entityCode=PS740&where=IL&pageNum=7&sort.provider=bestmatch&state=IL', None]\n",
      "42\n",
      "218\n",
      "218\n",
      "218\n",
      "218\n",
      "218\n",
      "218\n",
      "https://www.healthgrades.com/usearch?what=Pediatrics&entityCode=PS740&where=IL&pageNum=7&sort.provider=bestmatch&state=IL\n",
      "['https://www.healthgrades.com/physician/dr-benjamin-phillips-2d97l', 'https://www.healthgrades.com/physician/dr-georgios-skarpathiotis-36x3f', 'https://www.healthgrades.com/physician/dr-zeba-hasan-g6tb9', 'https://www.healthgrades.com/physician/dr-antonio-pangan-x5yt7', 'https://www.healthgrades.com/physician/dr-elzbieta-lojewski-ygk2l', 'https://www.healthgrades.com/physician/dr-sebastian-joseph-xd2sb', 'https://www.healthgrades.com/physician/dr-adam-sturdavant-3r9n9', 'https://www.healthgrades.com/physician/dr-stephen-wallace-xk5fp', 'https://www.healthgrades.com/physician/dr-david-burnside-xl8l9', 'https://www.healthgrades.com/physician/dr-david-dungan-xy2mw', 'https://www.healthgrades.com/physician/dr-brian-hirsch-24vdd', 'https://www.healthgrades.com/physician/dr-kirsten-zeitler-3fpny', 'tel:6303380204', 'https://www.healthgrades.com/physician/dr-maureen-villageliu-xpgc5', 'tel:6307016037', 'https://www.healthgrades.com/physician/dr-abigail-adams-ykbxp', 'https://www.healthgrades.com/physician/dr-farzana-izhar-xyx3c', 'https://www.healthgrades.com/physician/dr-jennifer-seo-cfu6z', 'tel:3125743157', 'https://www.healthgrades.com/physician/dr-susan-sankari-yf7bw', 'tel:6307016037', 'https://www.healthgrades.com/physician/dr-terry-jones-2ctrt', 'https://www.healthgrades.com/physician/dr-ellen-pratt-xvhbw', 'https://www.healthgrades.com/physician/dr-james-hunter-x89lv', 'https://www.healthgrades.com/physician/dr-stanislava-coufal-x4mgh', 'https://www.healthgrades.com/physician/dr-mohammed-adil-yb8dq', 'tel:6307016037', 'https://www.healthgrades.com/physician/dr-sher-niazi-ym4wn', 'https://www.healthgrades.com/physician/dr-jenny-kim-2wfww', 'https://www.healthgrades.com/physician/dr-craig-higgs-y9ffk', 'https://www.healthgrades.com/physician/dr-misty-phillips-25sfv', 'https://www.healthgrades.com/physician/dr-william-hutt-yjgyh', 'https://www.healthgrades.com/physician/dr-diane-santorineos-x6jv3', 'https://www.healthgrades.com/physician/dr-poornima-narayen-xyx4v', 'https://www.healthgrades.com/physician/dr-michelle-rojas-ypjcq', 'https://www.healthgrades.com/physician/dr-reda-kilani-y4fwh', 'https://www.healthgrades.com/physician/dr-megan-dwyer-ybnk7', 'https://www.healthgrades.com/physician/dr-evan-suan-38q5d', 'https://www.healthgrades.com/physician/dr-shanti-nair-xym3r', 'https://www.healthgrades.com/physician/dr-titus-chang-yqjc5', 'https://www.healthgrades.com/physician/dr-nida-hernaez-x5t4v', 'https://www.healthgrades.com/usearch?what=Pediatrics&entityCode=PS740&where=IL&pageNum=6&sort.provider=bestmatch&state=IL', 'https://www.healthgrades.com/usearch?what=Pediatrics&entityCode=PS740&where=IL&pageNum=1&sort.provider=bestmatch&state=IL', 'https://www.healthgrades.com/usearch?what=Pediatrics&entityCode=PS740&where=IL&pageNum=6&sort.provider=bestmatch&state=IL', 'https://www.healthgrades.com/usearch?what=Pediatrics&entityCode=PS740&where=IL&pageNum=8&sort.provider=bestmatch&state=IL', 'https://www.healthgrades.com/usearch?what=Pediatrics&entityCode=PS740&where=IL&pageNum=110&sort.provider=bestmatch&state=IL', 'https://www.healthgrades.com/usearch?what=Pediatrics&entityCode=PS740&where=IL&pageNum=8&sort.provider=bestmatch&state=IL', None]\n",
      "42\n",
      "260\n",
      "260\n",
      "260\n",
      "260\n",
      "260\n",
      "260\n",
      "https://www.healthgrades.com/usearch?what=Pediatrics&entityCode=PS740&where=IL&pageNum=8&sort.provider=bestmatch&state=IL\n",
      "['https://www.healthgrades.com/physician/dr-sandra-khoury-ykwld', 'https://www.healthgrades.com/physician/dr-david-anyadike-y2cpt', 'https://www.healthgrades.com/physician/dr-carl-sather-x6k3q', 'https://www.healthgrades.com/physician/dr-faye-samonte-22gvm', 'https://www.healthgrades.com/physician/dr-matthew-mascioli-y9qsbsz', 'https://www.healthgrades.com/physician/dr-andrew-forbes-gf5pd', 'https://www.healthgrades.com/physician/dr-angela-holbrook-35sx9', 'https://www.healthgrades.com/physician/dr-preeti-mirchandani-3cwt3', 'https://www.healthgrades.com/physician/dr-david-nadelman-x8qqx', 'https://www.healthgrades.com/physician/dr-susan-rohde-ydvg3', 'https://www.healthgrades.com/physician/dr-soon-choi-xh5vt', 'https://www.healthgrades.com/physician/dr-david-sandercock-x2b8f', 'https://www.healthgrades.com/physician/dr-riaz-naseer-x9xyv', 'https://www.healthgrades.com/physician/dr-rodney-alford-y4hw8', 'https://www.healthgrades.com/physician/dr-robert-malloy-37frx', 'https://www.healthgrades.com/physician/dr-matheena-akhtar-2f2lj', 'https://www.healthgrades.com/physician/dr-elena-gozum-3gtfn', 'tel:6307016037', 'https://www.healthgrades.com/physician/dr-thomas-roberts-3llv6', 'https://www.healthgrades.com/physician/dr-doreena-mcbride-2sptg', 'https://www.healthgrades.com/physician/dr-nicole-keller-w3tx6', 'https://www.healthgrades.com/physician/dr-maria-garcia-ypbry', 'https://www.healthgrades.com/physician/dr-amanda-powell-gby9h', 'https://www.healthgrades.com/physician/dr-angela-bard-25v39', 'https://www.healthgrades.com/physician/dr-antoinette-sallamme-xhqxd', 'https://www.healthgrades.com/physician/dr-virginia-madla-xcjhv', 'https://www.healthgrades.com/physician/dr-thomas-moore-y63dp', 'https://www.healthgrades.com/physician/dr-sabrina-lin-yjp6l', 'https://www.healthgrades.com/physician/dr-aurea-thomas-xymgwtt', 'https://www.healthgrades.com/physician/dr-ian-best-2g9ll', 'https://www.healthgrades.com/physician/dr-shad-beaty-x5d9m', 'https://www.healthgrades.com/physician/dr-john-lee-33tpg', 'tel:6307016037', 'https://www.healthgrades.com/physician/dr-virginia-depaul-xh23w', 'https://www.healthgrades.com/physician/dr-rodolfo-sarmiento-xygh9', 'tel:6303380204', 'https://www.healthgrades.com/physician/dr-katharyn-lupo-gdbbl', 'tel:6303264436', 'https://www.healthgrades.com/physician/dr-natalya-vernovsky-3cd9p', 'https://www.healthgrades.com/physician/dr-melissa-holmes-3r394', 'tel:3127674365', 'https://www.healthgrades.com/usearch?what=Pediatrics&entityCode=PS740&where=IL&pageNum=7&sort.provider=bestmatch&state=IL', 'https://www.healthgrades.com/usearch?what=Pediatrics&entityCode=PS740&where=IL&pageNum=1&sort.provider=bestmatch&state=IL', 'https://www.healthgrades.com/usearch?what=Pediatrics&entityCode=PS740&where=IL&pageNum=7&sort.provider=bestmatch&state=IL', 'https://www.healthgrades.com/usearch?what=Pediatrics&entityCode=PS740&where=IL&pageNum=9&sort.provider=bestmatch&state=IL', 'https://www.healthgrades.com/usearch?what=Pediatrics&entityCode=PS740&where=IL&pageNum=110&sort.provider=bestmatch&state=IL', 'https://www.healthgrades.com/usearch?what=Pediatrics&entityCode=PS740&where=IL&pageNum=9&sort.provider=bestmatch&state=IL', None]\n",
      "42\n",
      "302\n",
      "302\n",
      "302\n",
      "302\n",
      "302\n",
      "302\n",
      "https://www.healthgrades.com/usearch?what=Pediatrics&entityCode=PS740&where=IL&pageNum=9&sort.provider=bestmatch&state=IL\n",
      "['https://www.healthgrades.com/physician/dr-steven-shechtman-xwmn8', 'https://www.healthgrades.com/physician/dr-edgar-torres-4yx99', 'https://www.healthgrades.com/physician/dr-beth-steh-xn3ss', 'https://www.healthgrades.com/physician/dr-saroja-thawani-xjcq7', 'https://www.healthgrades.com/physician/dr-katherine-shepherd-2ls8l', 'https://www.healthgrades.com/physician/dr-anna-ignaczewski-x5pq5', 'https://www.healthgrades.com/physician/dr-roy-jonas-3x7wp', 'https://www.healthgrades.com/physician/dr-stephanie-baker-ylcsm', 'https://www.healthgrades.com/physician/dr-oscar-diaz-29tnm', 'https://www.healthgrades.com/physician/dr-quimbo-ching-xvcqt', 'https://www.healthgrades.com/physician/dr-maria-alkureishi-2grry', 'https://www.healthgrades.com/physician/dr-michael-comerford-x33nr', 'https://www.healthgrades.com/physician/dr-david-erickson-y55pn', 'https://www.healthgrades.com/physician/dr-michael-rakotz-yfnnf', 'https://www.healthgrades.com/physician/dr-christine-poulos-ynj5p', 'https://www.healthgrades.com/physician/dr-michele-metrick-xmcjp', 'https://www.healthgrades.com/physician/dr-cassia-zarzuela-xf7x8', 'https://www.healthgrades.com/physician/dr-victoria-jansen-2bn8f', 'https://www.healthgrades.com/physician/dr-marson-tenoso-ypcp5', 'https://www.healthgrades.com/physician/dr-sylvia-villares-y2gps', 'https://www.healthgrades.com/physician/dr-gisela-gonzalez-x8dpv', 'https://www.healthgrades.com/physician/dr-gregory-gorski-y6979', 'https://www.healthgrades.com/physician/dr-gregory-summers-x5k77', 'https://www.healthgrades.com/physician/dr-arkady-ayngorn-2jxc3', 'tel:6307016037', 'https://www.healthgrades.com/physician/dr-don-seidman-xlrrs', 'tel:6303380204', 'https://www.healthgrades.com/physician/dr-rakhee-kalelkar-aj2rz', 'tel:6303264436', 'https://www.healthgrades.com/physician/dr-elizabeth-manjooran-xmyrx', 'https://www.healthgrades.com/physician/dr-paul-tortoriello-xqsq3', 'https://www.healthgrades.com/physician/dr-robert-gillespie-xjhqk', 'https://www.healthgrades.com/physician/dr-ashima-gupta-yrtgb', 'https://www.healthgrades.com/physician/dr-carrie-zimmer-3885v', 'https://www.healthgrades.com/physician/dr-danice-roberts-gfdn5', 'https://www.healthgrades.com/physician/dr-pabbisetty-ramana-x637t', 'https://www.healthgrades.com/physician/dr-catherine-glunz-3k9ws', 'https://www.healthgrades.com/physician/dr-nora-philbin-g87fm', 'https://www.healthgrades.com/physician/dr-obianuju-okonkwo-ynw2n', 'https://www.healthgrades.com/usearch?what=Pediatrics&entityCode=PS740&where=IL&pageNum=8&sort.provider=bestmatch&state=IL', 'https://www.healthgrades.com/usearch?what=Pediatrics&entityCode=PS740&where=IL&pageNum=1&sort.provider=bestmatch&state=IL', 'https://www.healthgrades.com/usearch?what=Pediatrics&entityCode=PS740&where=IL&pageNum=8&sort.provider=bestmatch&state=IL', 'https://www.healthgrades.com/usearch?what=Pediatrics&entityCode=PS740&where=IL&pageNum=10&sort.provider=bestmatch&state=IL', 'https://www.healthgrades.com/usearch?what=Pediatrics&entityCode=PS740&where=IL&pageNum=110&sort.provider=bestmatch&state=IL', 'https://www.healthgrades.com/usearch?what=Pediatrics&entityCode=PS740&where=IL&pageNum=10&sort.provider=bestmatch&state=IL', None]\n",
      "42\n",
      "344\n",
      "344\n",
      "344\n",
      "344\n",
      "344\n",
      "344\n",
      "https://www.healthgrades.com/usearch?what=Pediatrics&entityCode=PS740&where=IL&pageNum=10&sort.provider=bestmatch&state=IL\n",
      "['https://www.healthgrades.com/physician/dr-bernadette-espiritu-xqbrs', 'https://www.healthgrades.com/physician/dr-alma-guzman-2qdd4', 'https://www.healthgrades.com/physician/dr-david-matusiak-xj53g', 'tel:6303380204', 'https://www.healthgrades.com/physician/dr-linda-fisher-3kchh', 'tel:6303380204', 'https://www.healthgrades.com/physician/dr-nicholas-tapas-xh839', 'tel:6303264436', 'https://www.healthgrades.com/physician/dr-v-grace-carreon-2gvh3', 'https://www.healthgrades.com/physician/dr-andrew-bernstein-xyvky', 'https://www.healthgrades.com/physician/dr-kristen-smith-x7glm', 'https://www.healthgrades.com/physician/dr-padmashree-reddy-y8fgp', 'https://www.healthgrades.com/physician/dr-holly-russell-2874l', 'https://www.healthgrades.com/physician/dr-marie-philobos-2bln3', 'https://www.healthgrades.com/physician/dr-mariola-jackowski-yxyyx', 'https://www.healthgrades.com/physician/dr-you-kim-x2qd4', 'https://www.healthgrades.com/physician/dr-stacie-laff-yvmk7', 'tel:6184813198', 'https://www.healthgrades.com/physician/dr-catherine-fitzpatrick-yhfds', 'https://www.healthgrades.com/physician/dr-john-joyce-3hnhn', 'https://www.healthgrades.com/physician/dr-karen-goldstein-2gmsg', 'https://www.healthgrades.com/physician/dr-lori-walsh-xmwm8', 'https://www.healthgrades.com/physician/dr-suzanne-pham-xgk44', 'https://www.healthgrades.com/physician/dr-katherine-maietta-x8q5y', 'https://www.healthgrades.com/physician/dr-susan-mangahas-35frq', 'https://www.healthgrades.com/physician/dr-misha-martinez-gcphg', 'https://www.healthgrades.com/physician/dr-georges-germain-y6f3d', 'https://www.healthgrades.com/physician/dr-keith-williams-2xwfs', 'https://www.healthgrades.com/physician/dr-christine-amstadt-2dqyq', 'tel:6303264436', 'https://www.healthgrades.com/physician/dr-bernadeta-kordas-ymyws', 'https://www.healthgrades.com/physician/dr-bryan-siegfried-xdkjy', 'https://www.healthgrades.com/physician/dr-kenneth-miller-x5x66', 'https://www.healthgrades.com/physician/dr-victoria-uribe-xh5md', 'tel:6303380204', 'https://www.healthgrades.com/physician/dr-dana-howd-xr754', 'https://www.healthgrades.com/physician/dr-miroslawa-dulczewska-miller-386dg', 'https://www.healthgrades.com/physician/dr-mazen-rachid-xwvlq', 'https://www.healthgrades.com/physician/dr-keith-veselik-ycpc4', 'https://www.healthgrades.com/physician/dr-helen-tcheng-2qn9k', 'https://www.healthgrades.com/physician/dr-lori-pegram-xlh8l', 'https://www.healthgrades.com/physician/dr-erica-attanasio-xvgxs', 'tel:6303380204', 'https://www.healthgrades.com/usearch?what=Pediatrics&entityCode=PS740&where=IL&pageNum=9&sort.provider=bestmatch&state=IL', 'https://www.healthgrades.com/usearch?what=Pediatrics&entityCode=PS740&where=IL&pageNum=1&sort.provider=bestmatch&state=IL', 'https://www.healthgrades.com/usearch?what=Pediatrics&entityCode=PS740&where=IL&pageNum=9&sort.provider=bestmatch&state=IL', 'https://www.healthgrades.com/usearch?what=Pediatrics&entityCode=PS740&where=IL&pageNum=11&sort.provider=bestmatch&state=IL', 'https://www.healthgrades.com/usearch?what=Pediatrics&entityCode=PS740&where=IL&pageNum=110&sort.provider=bestmatch&state=IL', 'https://www.healthgrades.com/usearch?what=Pediatrics&entityCode=PS740&where=IL&pageNum=11&sort.provider=bestmatch&state=IL', None]\n",
      "42\n",
      "386\n",
      "386\n",
      "386\n",
      "386\n",
      "386\n",
      "386\n",
      "https://www.healthgrades.com/usearch?what=Pediatrics&entityCode=PS740&where=IL&pageNum=11&sort.provider=bestmatch&state=IL\n",
      "['https://www.healthgrades.com/physician/dr-tina-rozene-2st3y', 'https://www.healthgrades.com/physician/dr-renee-slade-34vq6', 'tel:3127674365', 'https://www.healthgrades.com/physician/dr-erin-jamen-35g3t', 'https://www.healthgrades.com/physician/dr-karin-fiedler-xjm5r', 'https://www.healthgrades.com/physician/dr-errol-baptist-3glp3', 'https://www.healthgrades.com/physician/dr-john-galbreath-x2nxc', 'https://www.healthgrades.com/physician/dr-daniel-obrien-xnksw', 'https://www.healthgrades.com/physician/dr-shaista-kamal-2vv8n', 'https://www.healthgrades.com/physician/dr-kenneth-sagins-27mdr', 'https://www.healthgrades.com/physician/dr-mussarat-arshad-x3gcw', 'https://www.healthgrades.com/physician/dr-elana-comrov-y6jcl', 'https://www.healthgrades.com/physician/dr-irwin-benuck-2rrtp', 'https://www.healthgrades.com/physician/dr-mohamed-jabri-x7qfx', 'https://www.healthgrades.com/physician/dr-valerie-hines-xhm8l', 'https://www.healthgrades.com/physician/dr-carrie-cox-3tpfb', 'https://www.healthgrades.com/physician/dr-paulito-tuazon-xb8gf', 'https://www.healthgrades.com/physician/dr-zeina-kalache-2jv35', 'https://www.healthgrades.com/physician/dr-michelle-conroy-x5h9j', 'tel:6303380204', None, 'https://www.healthgrades.com/physician/dr-whitney-fose-xjs83', 'tel:6307016037', 'https://www.healthgrades.com/physician/dr-judith-savage-xskxr', 'https://www.healthgrades.com/physician/dr-mary-westerholm-3gbyy', 'https://www.healthgrades.com/physician/dr-lourdes-floro-xb44x', 'https://www.healthgrades.com/physician/dr-david-kowalski-2jrmg', 'https://www.healthgrades.com/physician/dr-heidi-renner-xw657', 'https://www.healthgrades.com/physician/dr-thida-maw-yjk35', 'https://www.healthgrades.com/physician/dr-katherine-spangenberg-yqvq5', 'https://www.healthgrades.com/physician/dr-kevin-joseph-y9vbpsz', 'https://www.healthgrades.com/physician/dr-umair-jabbar-ggxj4', 'https://www.healthgrades.com/physician/dr-anupama-deshpande-39rgj', 'https://www.healthgrades.com/physician/dr-pushpa-mamtani-xyvgx', 'https://www.healthgrades.com/physician/dr-beth-clingan-2c2bq', 'https://www.healthgrades.com/physician/dr-lindsay-uzunlar-3c8q9', 'https://www.healthgrades.com/physician/dr-orest-horodysky-yppfy', 'https://www.healthgrades.com/physician/dr-thomas-halperin-yqywj', 'https://www.healthgrades.com/physician/dr-daniel-schulman-2cslj', 'tel:6303264436', 'https://www.healthgrades.com/physician/dr-patrick-esposito-yhv2t', 'https://www.healthgrades.com/usearch?what=Pediatrics&entityCode=PS740&where=IL&pageNum=10&sort.provider=bestmatch&state=IL', 'https://www.healthgrades.com/usearch?what=Pediatrics&entityCode=PS740&where=IL&pageNum=1&sort.provider=bestmatch&state=IL', 'https://www.healthgrades.com/usearch?what=Pediatrics&entityCode=PS740&where=IL&pageNum=10&sort.provider=bestmatch&state=IL', 'https://www.healthgrades.com/usearch?what=Pediatrics&entityCode=PS740&where=IL&pageNum=12&sort.provider=bestmatch&state=IL', 'https://www.healthgrades.com/usearch?what=Pediatrics&entityCode=PS740&where=IL&pageNum=110&sort.provider=bestmatch&state=IL', 'https://www.healthgrades.com/usearch?what=Pediatrics&entityCode=PS740&where=IL&pageNum=12&sort.provider=bestmatch&state=IL', None]\n",
      "42\n",
      "428\n",
      "428\n",
      "428\n",
      "428\n",
      "428\n",
      "428\n",
      "https://www.healthgrades.com/usearch?what=Pediatrics&entityCode=PS740&where=IL&pageNum=12&sort.provider=bestmatch&state=IL\n",
      "['https://www.healthgrades.com/physician/dr-anna-banas-2b37n', 'https://www.healthgrades.com/physician/dr-loren-soria-2xx7k', 'https://www.healthgrades.com/physician/dr-melody-santos-2y7vr', 'tel:6184813198', 'https://www.healthgrades.com/physician/dr-cathy-divincenzo-y8y76', 'https://www.healthgrades.com/physician/dr-michael-reicherts-2247q', 'tel:6307016037', 'https://www.healthgrades.com/physician/dr-ayca-raif-y4pd9', 'https://www.healthgrades.com/physician/dr-marcelo-trabado-yr8l8', 'https://www.healthgrades.com/physician/dr-kyung-kim-yqssw', 'https://www.healthgrades.com/physician/dr-may-sun-3rnkf', 'https://www.healthgrades.com/physician/dr-chandrakant-bhakta-2gcfd', 'https://www.healthgrades.com/physician/dr-eden-bautista-ordonez-xvxql', 'https://www.healthgrades.com/physician/dr-emelie-medalle-36bgp', 'https://www.healthgrades.com/physician/dr-jennifer-deluka-yhxnm', 'https://www.healthgrades.com/physician/dr-nivedita-mohanty-34thg', 'https://www.healthgrades.com/physician/dr-howard-singer-2kwc8', 'https://www.healthgrades.com/physician/dr-young-mok-x7tfv', 'https://www.healthgrades.com/physician/dr-ravindranath-reddy-2jqll', 'https://www.healthgrades.com/physician/dr-rachel-elwell-3bkl8', 'https://www.healthgrades.com/physician/dr-jacques-jentel-2m9ly', 'https://www.healthgrades.com/physician/dr-april-bellamy-peyton-xcptw', 'https://www.healthgrades.com/physician/dr-kiranjit-deol-2wlj2', 'https://www.healthgrades.com/physician/dr-judith-froehlich-y634r', 'tel:6307016037', 'https://www.healthgrades.com/physician/dr-hamid-mahmud-xjv6n', 'https://www.healthgrades.com/physician/dr-henry-fang-yb2yd', 'https://www.healthgrades.com/physician/dr-joy-castrovillari-2nstk', 'tel:6303264436', 'https://www.healthgrades.com/physician/dr-marc-freed-y38xw', 'https://www.healthgrades.com/physician/dr-marion-willemsen-reid-2dr34', 'https://www.healthgrades.com/physician/dr-kelly-lindsey-2cty3', 'https://www.healthgrades.com/physician/dr-debra-schwartzers-3854c', 'https://www.healthgrades.com/physician/dr-alma-bicknese-3f67q', 'https://www.healthgrades.com/physician/dr-gretchen-gibbs-y5txv', 'https://www.healthgrades.com/physician/dr-ghiath-kassar-gc4k8', 'https://www.healthgrades.com/physician/dr-cornelia-tandez-x9k9t', 'https://www.healthgrades.com/physician/dr-wanda-hatter-stewart-2kh8c', 'https://www.healthgrades.com/physician/dr-patrick-mackey-3y46q', 'https://www.healthgrades.com/physician/dr-erin-schutte-36cml', 'tel:6303264436', 'https://www.healthgrades.com/usearch?what=Pediatrics&entityCode=PS740&where=IL&pageNum=11&sort.provider=bestmatch&state=IL', 'https://www.healthgrades.com/usearch?what=Pediatrics&entityCode=PS740&where=IL&pageNum=1&sort.provider=bestmatch&state=IL', 'https://www.healthgrades.com/usearch?what=Pediatrics&entityCode=PS740&where=IL&pageNum=11&sort.provider=bestmatch&state=IL', 'https://www.healthgrades.com/usearch?what=Pediatrics&entityCode=PS740&where=IL&pageNum=13&sort.provider=bestmatch&state=IL', 'https://www.healthgrades.com/usearch?what=Pediatrics&entityCode=PS740&where=IL&pageNum=110&sort.provider=bestmatch&state=IL', 'https://www.healthgrades.com/usearch?what=Pediatrics&entityCode=PS740&where=IL&pageNum=13&sort.provider=bestmatch&state=IL', None]\n",
      "42\n",
      "470\n",
      "470\n",
      "470\n",
      "470\n",
      "470\n",
      "470\n",
      "https://www.healthgrades.com/usearch?what=Pediatrics&entityCode=PS740&where=IL&pageNum=13&sort.provider=bestmatch&state=IL\n",
      "['https://www.healthgrades.com/physician/dr-kathleen-kicsak-2k4f5', 'https://www.healthgrades.com/physician/dr-wendell-wheeler-x44fd', 'https://www.healthgrades.com/physician/dr-tatiana-scolin-26nbr', 'https://www.healthgrades.com/physician/dr-margolit-jankelow-xkskr', 'https://www.healthgrades.com/physician/dr-jason-chamberlin-y59b7', 'https://www.healthgrades.com/physician/dr-mariana-gigea-y5n96', 'https://www.healthgrades.com/physician/dr-zarina-merchant-x5lts', 'https://www.healthgrades.com/physician/dr-muhammed-longi-352p5', 'https://www.healthgrades.com/physician/dr-avtar-razdan-ybkfg', 'https://www.healthgrades.com/physician/dr-darryl-link-xmtn8', 'https://www.healthgrades.com/physician/dr-scott-carlson-2bn4t', 'https://www.healthgrades.com/physician/dr-steven-goldberg-x639t', 'https://www.healthgrades.com/physician/dr-jill-johnston-xr6t8', 'https://www.healthgrades.com/physician/dr-eric-farinas-2ffgp', 'https://www.healthgrades.com/physician/dr-morgan-fahey-vornberg-3hnts', 'tel:3142300212', 'https://www.healthgrades.com/physician/dr-febe-wallace-3xxlv', 'https://www.healthgrades.com/physician/dr-edward-pont-2ym4h', 'tel:6303380204', 'https://www.healthgrades.com/physician/dr-cindy-rubin-2mtd5', 'https://www.healthgrades.com/physician/dr-jennifer-mcdonnell-xk2mc', 'https://www.healthgrades.com/physician/dr-dalila-holland-2w4t8', 'https://www.healthgrades.com/physician/dr-aaron-donnell-3krv6', 'https://www.healthgrades.com/physician/dr-nathan-derhammer-yk4my', 'https://www.healthgrades.com/physician/dr-amanda-britt-2ljv7', 'https://www.healthgrades.com/physician/dr-naina-batish-2gpw5', 'https://www.healthgrades.com/physician/dr-jean-wilson-muscadin-x34wn', 'https://www.healthgrades.com/physician/dr-gloria-valiente-38r3p', 'https://www.healthgrades.com/physician/dr-faiz-rahman-3dm3t', 'https://www.healthgrades.com/physician/dr-scott-keller-y5fgg', 'tel:6184813198', 'https://www.healthgrades.com/physician/dr-michelle-jao-294rj', 'tel:6303264436', 'https://www.healthgrades.com/physician/dr-madhavi-manubolu-xk4t3', 'tel:6307016037', None, 'https://www.healthgrades.com/physician/dr-miroslawa-malinowska-32dm6', 'https://www.healthgrades.com/physician/dr-reginald-bowman-348h2', 'https://www.healthgrades.com/physician/dr-gene-denning-ynt55', 'https://www.healthgrades.com/physician/dr-erin-taback-y9fl2', 'https://www.healthgrades.com/physician/dr-nazem-alzalam-xv7qc', 'https://www.healthgrades.com/physician/dr-bridget-boyd-x8gt8', 'https://www.healthgrades.com/usearch?what=Pediatrics&entityCode=PS740&where=IL&pageNum=12&sort.provider=bestmatch&state=IL', 'https://www.healthgrades.com/usearch?what=Pediatrics&entityCode=PS740&where=IL&pageNum=1&sort.provider=bestmatch&state=IL', 'https://www.healthgrades.com/usearch?what=Pediatrics&entityCode=PS740&where=IL&pageNum=12&sort.provider=bestmatch&state=IL', 'https://www.healthgrades.com/usearch?what=Pediatrics&entityCode=PS740&where=IL&pageNum=14&sort.provider=bestmatch&state=IL', 'https://www.healthgrades.com/usearch?what=Pediatrics&entityCode=PS740&where=IL&pageNum=110&sort.provider=bestmatch&state=IL', 'https://www.healthgrades.com/usearch?what=Pediatrics&entityCode=PS740&where=IL&pageNum=14&sort.provider=bestmatch&state=IL', None]\n",
      "42\n",
      "512\n",
      "512\n",
      "512\n",
      "512\n",
      "512\n",
      "512\n",
      "https://www.healthgrades.com/usearch?what=Pediatrics&entityCode=PS740&where=IL&pageNum=14&sort.provider=bestmatch&state=IL\n",
      "['https://www.healthgrades.com/physician/dr-rhett-miller-2tg6p', 'https://www.healthgrades.com/physician/dr-dobroslawa-machnica-xgfbw', 'https://www.healthgrades.com/physician/dr-terry-ho-x92md', 'https://www.healthgrades.com/physician/dr-michael-stokas-gdhvm', 'https://www.healthgrades.com/physician/dr-cynthia-thomas-38d5q', 'https://www.healthgrades.com/physician/dr-marilyn-zwirn-2fny7', 'https://www.healthgrades.com/physician/dr-vinayak-dongre-y7ys6', 'tel:6307016037', None, 'https://www.healthgrades.com/physician/dr-gordon-wood-xx7vv', 'https://www.healthgrades.com/physician/dr-elizabeth-ewing-xylk95m', 'https://www.healthgrades.com/physician/dr-yasser-said-xtp7l', 'https://www.healthgrades.com/physician/dr-barbara-levy-355nb', 'https://www.healthgrades.com/physician/dr-davida-gerena-gblny', 'https://www.healthgrades.com/physician/dr-brett-palama-4xr5w', 'https://www.healthgrades.com/physician/dr-brett-palama-4xr5w#leave-review', 'https://www.healthgrades.com/physician/dr-shanti-seker-2nj7j', 'https://www.healthgrades.com/physician/dr-mary-rosales-y8rps', 'https://www.healthgrades.com/physician/dr-ugoeze-umunnah-3m4wp', 'https://www.healthgrades.com/physician/dr-daniel-vandenberg-39x5k', 'https://www.healthgrades.com/physician/dr-molly-lundy-3cc7d', 'https://www.healthgrades.com/physician/dr-christy-oliphant-yxvdd', 'https://www.healthgrades.com/physician/dr-utsahi-patel-e3vqz', 'https://www.healthgrades.com/physician/dr-joanne-leahy-auer-xj7st', 'https://www.healthgrades.com/physician/dr-suzanne-schulte-3gk8l', 'https://www.healthgrades.com/physician/dr-sarah-price-g6h58', 'tel:6184813198', 'https://www.healthgrades.com/physician/dr-linda-hamilton-xkk8g', 'tel:6307016037', 'https://www.healthgrades.com/physician/dr-gina-lowell-yv8mn', 'tel:3127674365', 'https://www.healthgrades.com/physician/dr-jennifer-krick-y7k5y', 'tel:6184813198', 'https://www.healthgrades.com/physician/dr-michael-rosenbaum-xwt2b', 'https://www.healthgrades.com/physician/dr-carissa-lee-holmes-y7w8d', 'https://www.healthgrades.com/physician/dr-pilarita-espinosa-yrh3n', 'https://www.healthgrades.com/physician/dr-katie-mena-gdkfp', 'https://www.healthgrades.com/physician/dr-damian-meehan-ys569', 'https://www.healthgrades.com/physician/dr-robert-andersen-xmmvl', 'tel:6303380204', 'https://www.healthgrades.com/appointment/landing/XMMVL?source=CommonComponent', 'https://www.healthgrades.com/physician/dr-rosalia-porcelli-y44n8', 'tel:6303380204', 'https://www.healthgrades.com/physician/dr-yolanda-rosales-yc25p', 'https://www.healthgrades.com/physician/dr-jo-an-segui-x6yv6', 'https://www.healthgrades.com/physician/dr-lucas-pogue-38p68', 'https://www.healthgrades.com/usearch?what=Pediatrics&entityCode=PS740&where=IL&pageNum=13&sort.provider=bestmatch&state=IL', 'https://www.healthgrades.com/usearch?what=Pediatrics&entityCode=PS740&where=IL&pageNum=1&sort.provider=bestmatch&state=IL', 'https://www.healthgrades.com/usearch?what=Pediatrics&entityCode=PS740&where=IL&pageNum=13&sort.provider=bestmatch&state=IL', 'https://www.healthgrades.com/usearch?what=Pediatrics&entityCode=PS740&where=IL&pageNum=15&sort.provider=bestmatch&state=IL', 'https://www.healthgrades.com/usearch?what=Pediatrics&entityCode=PS740&where=IL&pageNum=110&sort.provider=bestmatch&state=IL', 'https://www.healthgrades.com/usearch?what=Pediatrics&entityCode=PS740&where=IL&pageNum=15&sort.provider=bestmatch&state=IL', None]\n",
      "44\n"
     ]
    },
    {
     "ename": "TimeoutException",
     "evalue": "Message: timeout: Timed out receiving message from renderer: -2076.738\n  (Session info: chrome=80.0.3987.132)\n",
     "output_type": "error",
     "traceback": [
      "\u001b[1;31m---------------------------------------------------------------------------\u001b[0m",
      "\u001b[1;31mTimeoutException\u001b[0m                          Traceback (most recent call last)",
      "\u001b[1;32m<ipython-input-11-3f176e86974d>\u001b[0m in \u001b[0;36m<module>\u001b[1;34m\u001b[0m\n\u001b[0;32m      6\u001b[0m     \u001b[0mprint\u001b[0m \u001b[1;33m(\u001b[0m\u001b[0mresult\u001b[0m\u001b[1;33m[\u001b[0m\u001b[0mi\u001b[0m\u001b[1;33m]\u001b[0m\u001b[1;33m)\u001b[0m\u001b[1;33m\u001b[0m\u001b[1;33m\u001b[0m\u001b[0m\n\u001b[0;32m      7\u001b[0m     \u001b[0mtime\u001b[0m\u001b[1;33m.\u001b[0m\u001b[0msleep\u001b[0m\u001b[1;33m(\u001b[0m\u001b[1;36m1\u001b[0m\u001b[1;33m)\u001b[0m\u001b[1;33m\u001b[0m\u001b[1;33m\u001b[0m\u001b[0m\n\u001b[1;32m----> 8\u001b[1;33m     \u001b[0mdemoInfo\u001b[0m\u001b[1;33m(\u001b[0m\u001b[0murl\u001b[0m\u001b[1;33m)\u001b[0m\u001b[1;33m\u001b[0m\u001b[1;33m\u001b[0m\u001b[0m\n\u001b[0m\u001b[0;32m      9\u001b[0m \u001b[1;33m\u001b[0m\u001b[0m\n",
      "\u001b[1;32m<ipython-input-4-07f3a12d1ea2>\u001b[0m in \u001b[0;36mdemoInfo\u001b[1;34m(url)\u001b[0m\n\u001b[0;32m     28\u001b[0m     \u001b[1;32mfor\u001b[0m \u001b[0mi\u001b[0m \u001b[1;32min\u001b[0m \u001b[0mrange\u001b[0m\u001b[1;33m(\u001b[0m\u001b[0mlen\u001b[0m\u001b[1;33m(\u001b[0m\u001b[0mhref\u001b[0m\u001b[1;33m)\u001b[0m\u001b[1;33m)\u001b[0m\u001b[1;33m:\u001b[0m\u001b[1;33m\u001b[0m\u001b[1;33m\u001b[0m\u001b[0m\n\u001b[0;32m     29\u001b[0m         \u001b[0mtime\u001b[0m\u001b[1;33m.\u001b[0m\u001b[0msleep\u001b[0m\u001b[1;33m(\u001b[0m\u001b[1;36m8\u001b[0m\u001b[1;33m)\u001b[0m\u001b[1;33m\u001b[0m\u001b[1;33m\u001b[0m\u001b[0m\n\u001b[1;32m---> 30\u001b[1;33m         \u001b[0mdriver\u001b[0m\u001b[1;33m.\u001b[0m\u001b[0mget\u001b[0m\u001b[1;33m(\u001b[0m\u001b[0mhref\u001b[0m\u001b[1;33m[\u001b[0m\u001b[0mi\u001b[0m\u001b[1;33m]\u001b[0m\u001b[1;33m)\u001b[0m\u001b[1;33m\u001b[0m\u001b[1;33m\u001b[0m\u001b[0m\n\u001b[0m\u001b[0;32m     31\u001b[0m \u001b[1;33m\u001b[0m\u001b[0m\n\u001b[0;32m     32\u001b[0m         \u001b[1;32mtry\u001b[0m\u001b[1;33m:\u001b[0m\u001b[1;33m\u001b[0m\u001b[1;33m\u001b[0m\u001b[0m\n",
      "\u001b[1;32m~\\Anaconda3\\lib\\site-packages\\selenium\\webdriver\\remote\\webdriver.py\u001b[0m in \u001b[0;36mget\u001b[1;34m(self, url)\u001b[0m\n\u001b[0;32m    331\u001b[0m         \u001b[0mLoads\u001b[0m \u001b[0ma\u001b[0m \u001b[0mweb\u001b[0m \u001b[0mpage\u001b[0m \u001b[1;32min\u001b[0m \u001b[0mthe\u001b[0m \u001b[0mcurrent\u001b[0m \u001b[0mbrowser\u001b[0m \u001b[0msession\u001b[0m\u001b[1;33m.\u001b[0m\u001b[1;33m\u001b[0m\u001b[1;33m\u001b[0m\u001b[0m\n\u001b[0;32m    332\u001b[0m         \"\"\"\n\u001b[1;32m--> 333\u001b[1;33m         \u001b[0mself\u001b[0m\u001b[1;33m.\u001b[0m\u001b[0mexecute\u001b[0m\u001b[1;33m(\u001b[0m\u001b[0mCommand\u001b[0m\u001b[1;33m.\u001b[0m\u001b[0mGET\u001b[0m\u001b[1;33m,\u001b[0m \u001b[1;33m{\u001b[0m\u001b[1;34m'url'\u001b[0m\u001b[1;33m:\u001b[0m \u001b[0murl\u001b[0m\u001b[1;33m}\u001b[0m\u001b[1;33m)\u001b[0m\u001b[1;33m\u001b[0m\u001b[1;33m\u001b[0m\u001b[0m\n\u001b[0m\u001b[0;32m    334\u001b[0m \u001b[1;33m\u001b[0m\u001b[0m\n\u001b[0;32m    335\u001b[0m     \u001b[1;33m@\u001b[0m\u001b[0mproperty\u001b[0m\u001b[1;33m\u001b[0m\u001b[1;33m\u001b[0m\u001b[0m\n",
      "\u001b[1;32m~\\Anaconda3\\lib\\site-packages\\selenium\\webdriver\\remote\\webdriver.py\u001b[0m in \u001b[0;36mexecute\u001b[1;34m(self, driver_command, params)\u001b[0m\n\u001b[0;32m    319\u001b[0m         \u001b[0mresponse\u001b[0m \u001b[1;33m=\u001b[0m \u001b[0mself\u001b[0m\u001b[1;33m.\u001b[0m\u001b[0mcommand_executor\u001b[0m\u001b[1;33m.\u001b[0m\u001b[0mexecute\u001b[0m\u001b[1;33m(\u001b[0m\u001b[0mdriver_command\u001b[0m\u001b[1;33m,\u001b[0m \u001b[0mparams\u001b[0m\u001b[1;33m)\u001b[0m\u001b[1;33m\u001b[0m\u001b[1;33m\u001b[0m\u001b[0m\n\u001b[0;32m    320\u001b[0m         \u001b[1;32mif\u001b[0m \u001b[0mresponse\u001b[0m\u001b[1;33m:\u001b[0m\u001b[1;33m\u001b[0m\u001b[1;33m\u001b[0m\u001b[0m\n\u001b[1;32m--> 321\u001b[1;33m             \u001b[0mself\u001b[0m\u001b[1;33m.\u001b[0m\u001b[0merror_handler\u001b[0m\u001b[1;33m.\u001b[0m\u001b[0mcheck_response\u001b[0m\u001b[1;33m(\u001b[0m\u001b[0mresponse\u001b[0m\u001b[1;33m)\u001b[0m\u001b[1;33m\u001b[0m\u001b[1;33m\u001b[0m\u001b[0m\n\u001b[0m\u001b[0;32m    322\u001b[0m             response['value'] = self._unwrap_value(\n\u001b[0;32m    323\u001b[0m                 response.get('value', None))\n",
      "\u001b[1;32m~\\Anaconda3\\lib\\site-packages\\selenium\\webdriver\\remote\\errorhandler.py\u001b[0m in \u001b[0;36mcheck_response\u001b[1;34m(self, response)\u001b[0m\n\u001b[0;32m    240\u001b[0m                 \u001b[0malert_text\u001b[0m \u001b[1;33m=\u001b[0m \u001b[0mvalue\u001b[0m\u001b[1;33m[\u001b[0m\u001b[1;34m'alert'\u001b[0m\u001b[1;33m]\u001b[0m\u001b[1;33m.\u001b[0m\u001b[0mget\u001b[0m\u001b[1;33m(\u001b[0m\u001b[1;34m'text'\u001b[0m\u001b[1;33m)\u001b[0m\u001b[1;33m\u001b[0m\u001b[1;33m\u001b[0m\u001b[0m\n\u001b[0;32m    241\u001b[0m             \u001b[1;32mraise\u001b[0m \u001b[0mexception_class\u001b[0m\u001b[1;33m(\u001b[0m\u001b[0mmessage\u001b[0m\u001b[1;33m,\u001b[0m \u001b[0mscreen\u001b[0m\u001b[1;33m,\u001b[0m \u001b[0mstacktrace\u001b[0m\u001b[1;33m,\u001b[0m \u001b[0malert_text\u001b[0m\u001b[1;33m)\u001b[0m\u001b[1;33m\u001b[0m\u001b[1;33m\u001b[0m\u001b[0m\n\u001b[1;32m--> 242\u001b[1;33m         \u001b[1;32mraise\u001b[0m \u001b[0mexception_class\u001b[0m\u001b[1;33m(\u001b[0m\u001b[0mmessage\u001b[0m\u001b[1;33m,\u001b[0m \u001b[0mscreen\u001b[0m\u001b[1;33m,\u001b[0m \u001b[0mstacktrace\u001b[0m\u001b[1;33m)\u001b[0m\u001b[1;33m\u001b[0m\u001b[1;33m\u001b[0m\u001b[0m\n\u001b[0m\u001b[0;32m    243\u001b[0m \u001b[1;33m\u001b[0m\u001b[0m\n\u001b[0;32m    244\u001b[0m     \u001b[1;32mdef\u001b[0m \u001b[0m_value_or_default\u001b[0m\u001b[1;33m(\u001b[0m\u001b[0mself\u001b[0m\u001b[1;33m,\u001b[0m \u001b[0mobj\u001b[0m\u001b[1;33m,\u001b[0m \u001b[0mkey\u001b[0m\u001b[1;33m,\u001b[0m \u001b[0mdefault\u001b[0m\u001b[1;33m)\u001b[0m\u001b[1;33m:\u001b[0m\u001b[1;33m\u001b[0m\u001b[1;33m\u001b[0m\u001b[0m\n",
      "\u001b[1;31mTimeoutException\u001b[0m: Message: timeout: Timed out receiving message from renderer: -2076.738\n  (Session info: chrome=80.0.3987.132)\n"
     ]
    }
   ],
   "source": [
    "#pageLinks.append(driver.current_url)\n",
    "#Getting all the demographic info\n",
    "for i in range(len(result)):\n",
    "    url=driver.get(result[i])\n",
    "    print (result[i])\n",
    "    time.sleep(1)\n",
    "    demoInfo(url)"
   ]
  },
  {
   "cell_type": "code",
   "execution_count": null,
   "metadata": {
    "pycharm": {
     "is_executing": false
    }
   },
   "outputs": [],
   "source": [
    "#print (result[1])"
   ]
  },
  {
   "cell_type": "code",
   "execution_count": null,
   "metadata": {
    "pycharm": {
     "is_executing": false
    },
    "scrolled": true
   },
   "outputs": [],
   "source": [
    "#Getting all the reviews\n",
    "for i in range(len(result)):\n",
    "    url=driver.get(result[i])\n",
    "    print (result[i])\n",
    "    time.sleep(1)\n",
    "    reviews(url)"
   ]
  },
  {
   "cell_type": "code",
   "execution_count": null,
   "metadata": {
    "pycharm": {
     "is_executing": false
    }
   },
   "outputs": [],
   "source": [
    "#print (len(name))\n",
    "#print (len(age))\n",
    "#print (len(gender))\n",
    "#print (len(score))\n",
    "print (len(metaReview))\n",
    "#print(type(metaReview))"
   ]
  },
  {
   "cell_type": "code",
   "execution_count": null,
   "metadata": {
    "pycharm": {
     "is_executing": false
    }
   },
   "outputs": [],
   "source": [
    "reviewDict={'DoctorName':name, 'Age':age, 'Gender':gender,'Speciality':speciality,'Biography':bio,'Rating':score,'Reviews':metaReview}\n",
    "#reviewDict={'Reviews':metaReview}\n",
    "dataframe=pd.DataFrame(data=reviewDict)\n",
    "dataframe\n",
    "dataframe.to_csv('specialistReview_NY.csv', header=True)"
   ]
  },
  {
   "cell_type": "code",
   "execution_count": null,
   "metadata": {
    "pycharm": {
     "is_executing": false
    }
   },
   "outputs": [],
   "source": [
    "#url=driver.get(result[0])"
   ]
  },
  {
   "cell_type": "code",
   "execution_count": null,
   "metadata": {
    "pycharm": {
     "is_executing": false
    }
   },
   "outputs": [],
   "source": [
    "#reviews(url)"
   ]
  },
  {
   "cell_type": "code",
   "execution_count": null,
   "metadata": {
    "pycharm": {
     "is_executing": false
    }
   },
   "outputs": [],
   "source": []
  }
 ],
 "metadata": {
  "kernelspec": {
   "display_name": "Python 3",
   "language": "python",
   "name": "python3"
  },
  "language_info": {
   "codemirror_mode": {
    "name": "ipython",
    "version": 3
   },
   "file_extension": ".py",
   "mimetype": "text/x-python",
   "name": "python",
   "nbconvert_exporter": "python",
   "pygments_lexer": "ipython3",
   "version": "3.8.2"
  },
  "pycharm": {
   "stem_cell": {
    "cell_type": "raw",
    "metadata": {
     "collapsed": false
    },
    "source": []
   }
  }
 },
 "nbformat": 4,
 "nbformat_minor": 2
}
