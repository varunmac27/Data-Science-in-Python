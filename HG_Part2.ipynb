{
 "cells": [
  {
   "cell_type": "code",
   "execution_count": null,
   "metadata": {
    "pycharm": {
     "is_executing": true
    }
   },
   "outputs": [],
   "source": [
    "#Importing libraries\n",
    "import selenium\n",
    "import pandas as pd\n",
    "from selenium.webdriver.common.keys import Keys\n",
    "from selenium import webdriver\n",
    "import re\n",
    "from bs4 import BeautifulSoup\n",
    "import urllib\n",
    "from selenium.common.exceptions import NoSuchElementException \n",
    "from selenium.common.exceptions import WebDriverException\n",
    "import time\n",
    "\n",
    "from selenium import webdriver\n",
    "from selenium.webdriver.chrome.options import Options\n",
    "from selenium.webdriver.common.by import By\n",
    "from selenium.webdriver.support.ui import WebDriverWait\n",
    "from selenium.webdriver.support import expected_conditions as EC\n",
    "from selenium.common.exceptions import TimeoutException, WebDriverException\n",
    "import csv"
   ]
  },
  {
   "cell_type": "code",
   "execution_count": null,
   "metadata": {},
   "outputs": [],
   "source": [
    "#Setting up chrome driver\n",
    "from selenium.webdriver.support.wait import WebDriverWait\n",
    "options=webdriver.ChromeOptions()\n",
    "chrome_path = \"C:/Users/sangh/Documents/Anaconda_files/Healthcare/chromedriver_win32/chromedriver.exe\"\n",
    "options.add_argument(\"start-maximized\")\n",
    "options.add_argument(\"disable-infobars\")\n",
    "options.add_argument(\"--disable-extensions\")\n",
    "options.add_argument(\"--no-sandbox\")\n",
    "options.add_argument(\"--disable-dev-shm-usage\")\n",
    "options.add_argument(\"test-type\")\n",
    "options.add_argument(\"--dns-prefetch-disable\")\n",
    "driver = webdriver.Chrome(chrome_path,options=options)\n"
   ]
  },
  {
   "cell_type": "code",
   "execution_count": null,
   "metadata": {},
   "outputs": [],
   "source": [
    "#Creating different lists to extract info from each page\n",
    "name=[]\n",
    "hospital=[]\n",
    "bio=[]"
   ]
  },
  {
   "cell_type": "code",
   "execution_count": null,
   "metadata": {},
   "outputs": [],
   "source": [
    "#Defining fucntion for extracting Demographics\n",
    "def demoInfo(url):\n",
    "    \n",
    "    #Getting all the individual doctor page links\n",
    "    list_of_hrefs = []\n",
    "    \n",
    "    doctor_list = driver.find_elements_by_class_name(\"uSearch-cards\")\n",
    "\n",
    "    for block in doctor_list:\n",
    "        elements = block.find_elements_by_tag_name(\"a\")\n",
    "        for el in elements:\n",
    "            list_of_hrefs.append(el.get_attribute(\"href\"))\n",
    "\n",
    "    print (list_of_hrefs)\n",
    "    \n",
    "    #Removing all unwanted characters in the link list \n",
    "    try:\n",
    "        regex = re.compile(r'^tel:')\n",
    "        href=[x for x in list_of_hrefs if not regex.match(x)]\n",
    "    except:\n",
    "        list_of_hrefs=list(filter(None,list_of_hrefs))\n",
    "        regex = re.compile(r'^tel:')\n",
    "        href=[x for x in list_of_hrefs if not regex.match(x)]\n",
    "    finally:\n",
    "        print (len(href))\n",
    "    \n",
    "    \n",
    "    for i in range(len(href)):\n",
    "        time.sleep(8)\n",
    "        driver.get(href[i])     \n",
    "        \n",
    "        try:\n",
    "            x=driver.find_element_by_xpath(\"//h1[@data-qa-target='ProviderDisplayName']\")\n",
    "            name.append(x.text)\n",
    "        except:\n",
    "            name.append(\"Unknown\")\n",
    "        try:\n",
    "            h=driver.find_element_by_xpath(\"//span[@data-qa-target='hospital-name']\")\n",
    "            hospital.append(h.text)\n",
    "        except:\n",
    "            hospital.append(\"Unknown\")    \n",
    "        try:\n",
    "            y=driver.find_element_by_xpath(\"//p[@data-qa-target='premium-biography']\")\n",
    "            bio.append(y.text)\n",
    "        except:\n",
    "            bio.append(\"Unknown\")\n",
    "        \n",
    "    print (len(name))\n",
    "    print (len(hospital))\n",
    "    print (len(bio))"
   ]
  },
  {
   "cell_type": "code",
   "execution_count": null,
   "metadata": {},
   "outputs": [],
   "source": [
    "pageLinks=[]\n",
    "#Setting initial URL\n",
    "url=driver.get(\"https://www.healthgrades.com/usearch?what=Obstetrics%20%26%20Gynecology&where=IL&pageNum=1&sort.provider=bestmatch&state=IL\")\n",
    "pageLinks.append(url)\n",
    "listhref=[]\n",
    "\n",
    "#Loop to get all the pageLinks for Doctors\n",
    "for k in range(51):\n",
    "    try:\n",
    "      time.sleep(2)\n",
    "      element=driver.find_element_by_xpath(\"//*[@id='usearch-container']/div/main/div[1]/ul/li/nav/ul/li[10]/a[@class='_3ZWfj']\")\n",
    "      driver.execute_script(\"arguments[0].click();\", element)\n",
    "      pageLinks.append(driver.current_url)\n",
    "     \n",
    "    except ConnectionResetError:\n",
    "      continue\n",
    "    except:\n",
    "      element1=driver.find_element_by_xpath(\"//*[@id='usearch-container']/div/main/div[1]/ul/li/nav/ul/li[9]/a[@class='_3ZWfj']\")\n",
    "      driver.execute_script(\"arguments[0].click();\", element1)\n",
    "      pageLinks.append(driver.current_url)\n",
    "      continue\n",
    "pageLinks.append(driver.current_url)\n"
   ]
  },
  {
   "cell_type": "code",
   "execution_count": null,
   "metadata": {},
   "outputs": [],
   "source": [
    "len(pageLinks)"
   ]
  },
  {
   "cell_type": "code",
   "execution_count": null,
   "metadata": {},
   "outputs": [],
   "source": [
    "pageLinks.remove(None)\n",
    "pageLinks.append(driver.current_url)\n",
    "seen = set()\n",
    "result = []\n",
    "for item in pageLinks:\n",
    "    if item not in seen:\n",
    "        seen.add(item)\n",
    "        result.append(item)"
   ]
  },
  {
   "cell_type": "code",
   "execution_count": null,
   "metadata": {},
   "outputs": [],
   "source": [
    "#Getting all the demographic info\n",
    "for i in range(len(result)):\n",
    "    url=driver.get(result[i])\n",
    "    print (result[i])\n",
    "    time.sleep(1)\n",
    "    demoInfo(url)"
   ]
  },
  {
   "cell_type": "code",
   "execution_count": null,
   "metadata": {},
   "outputs": [],
   "source": [
    "#Checking length of lists \n",
    "print (len(name))\n",
    "print (len(hospital))\n",
    "print (len(bio))"
   ]
  },
  {
   "cell_type": "code",
   "execution_count": null,
   "metadata": {},
   "outputs": [],
   "source": [
    "#Output to csv file\n",
    "reviewDict={'DoctorName':name,'Affiliated Hospital':hospital, 'Bio':bio}\n",
    "dataframe=pd.DataFrame(data=reviewDict)\n",
    "dataframe\n",
    "dataframe.to_csv('HG_Demo2.csv', header=True, mode='a')"
   ]
  }
 ],
 "metadata": {
  "kernelspec": {
   "display_name": "Python 3",
   "language": "python",
   "name": "python3"
  },
  "language_info": {
   "codemirror_mode": {
    "name": "ipython",
    "version": 3
   },
   "file_extension": ".py",
   "mimetype": "text/x-python",
   "name": "python",
   "nbconvert_exporter": "python",
   "pygments_lexer": "ipython3",
   "version": "3.7.6"
  }
 },
 "nbformat": 4,
 "nbformat_minor": 4
}
