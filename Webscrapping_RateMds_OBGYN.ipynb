{
 "cells": [
  {
   "cell_type": "code",
   "execution_count": 229,
   "metadata": {
    "pycharm": {
     "is_executing": false
    }
   },
   "outputs": [],
   "source": [
    "import selenium\n",
    "import pandas as pd\n",
    "from selenium.webdriver.common.keys import Keys\n",
    "from selenium import webdriver\n",
    "import re\n",
    "from bs4 import BeautifulSoup\n",
    "import urllib\n",
    "from selenium.common.exceptions import NoSuchElementException \n",
    "from selenium.common.exceptions import WebDriverException\n",
    "import time\n",
    "import csv"
   ]
  },
  {
   "cell_type": "code",
   "execution_count": 230,
   "metadata": {
    "pycharm": {
     "is_executing": false
    }
   },
   "outputs": [],
   "source": [
    "chrome_path = \"/Users/sujaikarunakaran/Downloads/chromedriver 2\"\n",
    "driver = webdriver.Chrome(chrome_path)"
   ]
  },
  {
   "cell_type": "code",
   "execution_count": 231,
   "metadata": {
    "pycharm": {
     "is_executing": false
    }
   },
   "outputs": [
    {
     "name": "stdout",
     "output_type": "stream",
     "text": [
      "24\n"
     ]
    }
   ],
   "source": [
    "doctor_names = []\n",
    "page_reviews=[]\n",
    "rate_doc = []\n",
    "gender = []\n",
    "pageLinks=[]\n",
    "hospital_affiliate = []\n",
    "#pageLinks.append(\"https://www.ratemds.com/best-doctors/il/?specialty=gynecologist-obgyn\")\n",
    "\n",
    "#pageLinks.append(\"https://www.ratemds.com/best-doctors/il/?specialty=gynecologist-obgyn&page=2\")\n",
    "\n",
    "#pageLinks.append(\"https://www.ratemds.com/best-doctors/il/?specialty=gynecologist-obgyn&page=3\")\n",
    "\n",
    "#pageLinks.append(\"https://www.ratemds.com/best-doctors/il/?specialty=gynecologist-obgyn&page=4\")\n",
    "\n",
    "url=driver.get(\"https://www.ratemds.com/best-doctors/il/?specialty=gynecologist-obgyn&page=96\")\n",
    "source=driver.current_url\n",
    "pageLinks.append(source)\n",
    "time.sleep(2)\n",
    "\n",
    "#num_list = [6, 8, 9, 10, 11, 11, 11, 11, 11, 11, 11, 11, 11, 11, 11, 11, 11, 11, 11, 11, 11, 11, 11, 11, 11, 11]\n",
    "\n",
    "for i in range(23):\n",
    "    try:\n",
    "        time.sleep(3)\n",
    "        driver.find_element_by_xpath('//*[@id=\"doctor-list\"]/div/nav/ul/li[11]/a/span/i'.format(i)).click()\n",
    "        source = driver.current_url\n",
    "        pageLinks.append(source)\n",
    "    except ConnectionResetError:\n",
    "        continue\n",
    "    except NoSuchElementException:\n",
    "        continue\n",
    "    except:\n",
    "        continue\n",
    "print(len(pageLinks))"
   ]
  },
  {
   "cell_type": "code",
   "execution_count": 232,
   "metadata": {
    "scrolled": true
   },
   "outputs": [
    {
     "data": {
      "text/plain": [
       "['https://www.ratemds.com/best-doctors/il/?specialty=gynecologist-obgyn&page=96',\n",
       " 'https://www.ratemds.com/best-doctors/il/?specialty=gynecologist-obgyn&page=97',\n",
       " 'https://www.ratemds.com/best-doctors/il/?specialty=gynecologist-obgyn&page=98',\n",
       " 'https://www.ratemds.com/best-doctors/il/?specialty=gynecologist-obgyn&page=99',\n",
       " 'https://www.ratemds.com/best-doctors/il/?specialty=gynecologist-obgyn&page=100',\n",
       " 'https://www.ratemds.com/best-doctors/il/?specialty=gynecologist-obgyn&page=101',\n",
       " 'https://www.ratemds.com/best-doctors/il/?specialty=gynecologist-obgyn&page=102',\n",
       " 'https://www.ratemds.com/best-doctors/il/?specialty=gynecologist-obgyn&page=103',\n",
       " 'https://www.ratemds.com/best-doctors/il/?specialty=gynecologist-obgyn&page=104',\n",
       " 'https://www.ratemds.com/best-doctors/il/?specialty=gynecologist-obgyn&page=105',\n",
       " 'https://www.ratemds.com/best-doctors/il/?specialty=gynecologist-obgyn&page=106',\n",
       " 'https://www.ratemds.com/best-doctors/il/?specialty=gynecologist-obgyn&page=107',\n",
       " 'https://www.ratemds.com/best-doctors/il/?specialty=gynecologist-obgyn&page=108',\n",
       " 'https://www.ratemds.com/best-doctors/il/?specialty=gynecologist-obgyn&page=109',\n",
       " 'https://www.ratemds.com/best-doctors/il/?specialty=gynecologist-obgyn&page=110',\n",
       " 'https://www.ratemds.com/best-doctors/il/?specialty=gynecologist-obgyn&page=111',\n",
       " 'https://www.ratemds.com/best-doctors/il/?specialty=gynecologist-obgyn&page=112',\n",
       " 'https://www.ratemds.com/best-doctors/il/?specialty=gynecologist-obgyn&page=113',\n",
       " 'https://www.ratemds.com/best-doctors/il/?specialty=gynecologist-obgyn&page=114',\n",
       " 'https://www.ratemds.com/best-doctors/il/?specialty=gynecologist-obgyn&page=115',\n",
       " 'https://www.ratemds.com/best-doctors/il/?specialty=gynecologist-obgyn&page=116',\n",
       " 'https://www.ratemds.com/best-doctors/il/?specialty=gynecologist-obgyn&page=117',\n",
       " 'https://www.ratemds.com/best-doctors/il/?specialty=gynecologist-obgyn&page=118',\n",
       " 'https://www.ratemds.com/best-doctors/il/?specialty=gynecologist-obgyn&page=119']"
      ]
     },
     "execution_count": 232,
     "metadata": {},
     "output_type": "execute_result"
    }
   ],
   "source": [
    "pageLinks"
   ]
  },
  {
   "cell_type": "code",
   "execution_count": 233,
   "metadata": {
    "pycharm": {
     "is_executing": false
    }
   },
   "outputs": [],
   "source": [
    "#Getting all the individual doctor page links\n",
    "\n",
    "# for link in pageLinks:\n",
    "#     driver.get(link)\n",
    "#     doctor_list = driver.find_elements_by_class_name(\"search-item-doctor-name\")\n",
    "# \n",
    "#     for block in doctor_list:\n",
    "#         elements = block.find_elements_by_tag_name(\"a\")\n",
    "#         for el in elements:\n",
    "#             list_of_hrefs.append(el.get_attribute(\"href\"))\n",
    "#         \n",
    "#     print (list_of_hrefs)\n",
    "\n",
    "def check_element(url):\n",
    "    try:\n",
    "        driver.find_element_by_xpath(\"//i[@class='fa fa-angle-double-right']\")\n",
    "    except NoSuchElementException:\n",
    "        return False\n",
    "    return True"
   ]
  },
  {
   "cell_type": "code",
   "execution_count": 234,
   "metadata": {
    "pycharm": {
     "is_executing": false
    }
   },
   "outputs": [],
   "source": [
    "\n",
    "def doc_reviews(url):\n",
    "    list_of_hrefs = []\n",
    "    #driver.get(url)\n",
    "    doctor_list = driver.find_elements_by_id(\"doctor-list\")\n",
    "    time.sleep(1)\n",
    "    \n",
    "    for block in doctor_list:\n",
    "        elements = block.find_elements_by_class_name(\"search-item-doctor-link\")\n",
    "        for el in elements:\n",
    "            list_of_hrefs.append(el.get_attribute(\"href\"))\n",
    "    #print(len(list_of_hrefs))\n",
    "    \n",
    "    try:\n",
    "        regex = re.compile(r'^tel:')\n",
    "        href=[x for x in list_of_hrefs if not regex.match(x)]\n",
    "    except:\n",
    "        list_of_hrefs=list(filter(None,list_of_hrefs))\n",
    "        regex = re.compile(r'^tel:')\n",
    "        href=[x for x in list_of_hrefs if not regex.match(x)]\n",
    "    finally:\n",
    "        print (len(href))\n",
    "    \n",
    "    for j in range(len(href)):\n",
    "        doctor_reviews = []\n",
    "        time.sleep(3)\n",
    "        driver.get(href[j])\n",
    "        \n",
    "        time.sleep(5)\n",
    "        \n",
    "        #rate = driver.find_elements_by_class_name(\"col-sm-7\")\n",
    "        #rate=driver.find_elements_by_class_name(\"star-rating\")\n",
    "        rate=driver.find_element_by_xpath('//*[@id=\"info-panel\"]/span/div/div/div/div[2]/div[3]/span/span')\n",
    "        rate_doc.append(rate.get_attribute(\"title\"))\n",
    "        #print(rate_doc)\n",
    "        \n",
    "        #Scrape hospital affiliations\n",
    "        hosAff = driver.find_element_by_xpath(\"//span[@itemprop='name']\")\n",
    "        hospital_affiliate.append(hosAff.text)\n",
    "        \n",
    "        #time.sleep(1)\n",
    "        #name = driver.find_element_by_tag_name(\"h1\")\n",
    "        name=driver.find_element_by_xpath(\"//h1[@itemprop='name']\")\n",
    "        doctor_names.append(name.text)\n",
    "        \n",
    "        #time.sleep(1)\n",
    "        \n",
    "        gen=driver.find_element_by_xpath(\"//a[@doctordetail='.1.0.0.0.2.0.0.1']\")\n",
    "        gender.append(gen.text)\n",
    "        \n",
    "        #time.sleep(2)\n",
    "        #reviews=driver.find_elements_by_xpath(\"//p[@class='rating-comment-body']\")\n",
    "        #reviews = driver.find_elements_by_class_name(\"rating-comment-body\")\n",
    "        #for review in reviews:\n",
    "        #  doctor_reviews.append(review.text)\n",
    "        #page_reviews.append(doctor_reviews)\n",
    "        \n",
    "        for k in range(9):\n",
    "            try:\n",
    "                reviews=driver.find_elements_by_xpath(\"//p[@class='rating-comment-body']\")\n",
    "                for review in reviews:\n",
    "                    doctor_reviews.append(review.text)\n",
    "                \n",
    "                time.sleep(2)\n",
    "                #a=driver.find_element_by_class_name(\"fa fa-angle-double-right\")\n",
    "                if check_element(url):\n",
    "                    a=driver.find_element_by_xpath(\"//i[@class='fa fa-angle-double-right']\")\n",
    "                    driver.execute_script(\"arguments[0].click();\", a)\n",
    "                    time.sleep(4)\n",
    "                    continue\n",
    "                else:\n",
    "                    break    \n",
    "                time.sleep(2)\n",
    "            except:\n",
    "                continue\n",
    "        page_reviews.append(doctor_reviews)   \n",
    "   "
   ]
  },
  {
   "cell_type": "code",
   "execution_count": 235,
   "metadata": {
    "pycharm": {
     "is_executing": false
    },
    "scrolled": true
   },
   "outputs": [
    {
     "name": "stdout",
     "output_type": "stream",
     "text": [
      "https://www.ratemds.com/best-doctors/il/?specialty=gynecologist-obgyn&page=96\n",
      "10\n",
      "https://www.ratemds.com/best-doctors/il/?specialty=gynecologist-obgyn&page=97\n",
      "10\n",
      "https://www.ratemds.com/best-doctors/il/?specialty=gynecologist-obgyn&page=98\n",
      "10\n",
      "https://www.ratemds.com/best-doctors/il/?specialty=gynecologist-obgyn&page=99\n",
      "10\n",
      "https://www.ratemds.com/best-doctors/il/?specialty=gynecologist-obgyn&page=100\n",
      "10\n",
      "https://www.ratemds.com/best-doctors/il/?specialty=gynecologist-obgyn&page=101\n",
      "10\n",
      "https://www.ratemds.com/best-doctors/il/?specialty=gynecologist-obgyn&page=102\n",
      "10\n",
      "https://www.ratemds.com/best-doctors/il/?specialty=gynecologist-obgyn&page=103\n",
      "10\n",
      "https://www.ratemds.com/best-doctors/il/?specialty=gynecologist-obgyn&page=104\n",
      "10\n",
      "https://www.ratemds.com/best-doctors/il/?specialty=gynecologist-obgyn&page=105\n",
      "10\n",
      "https://www.ratemds.com/best-doctors/il/?specialty=gynecologist-obgyn&page=106\n",
      "10\n",
      "https://www.ratemds.com/best-doctors/il/?specialty=gynecologist-obgyn&page=107\n",
      "10\n",
      "https://www.ratemds.com/best-doctors/il/?specialty=gynecologist-obgyn&page=108\n",
      "10\n",
      "https://www.ratemds.com/best-doctors/il/?specialty=gynecologist-obgyn&page=109\n",
      "10\n",
      "https://www.ratemds.com/best-doctors/il/?specialty=gynecologist-obgyn&page=110\n",
      "10\n",
      "https://www.ratemds.com/best-doctors/il/?specialty=gynecologist-obgyn&page=111\n",
      "10\n",
      "https://www.ratemds.com/best-doctors/il/?specialty=gynecologist-obgyn&page=112\n",
      "10\n",
      "https://www.ratemds.com/best-doctors/il/?specialty=gynecologist-obgyn&page=113\n",
      "10\n",
      "https://www.ratemds.com/best-doctors/il/?specialty=gynecologist-obgyn&page=114\n",
      "10\n",
      "https://www.ratemds.com/best-doctors/il/?specialty=gynecologist-obgyn&page=115\n",
      "10\n",
      "https://www.ratemds.com/best-doctors/il/?specialty=gynecologist-obgyn&page=116\n",
      "10\n",
      "https://www.ratemds.com/best-doctors/il/?specialty=gynecologist-obgyn&page=117\n",
      "10\n",
      "https://www.ratemds.com/best-doctors/il/?specialty=gynecologist-obgyn&page=118\n",
      "10\n",
      "https://www.ratemds.com/best-doctors/il/?specialty=gynecologist-obgyn&page=119\n",
      "10\n"
     ]
    }
   ],
   "source": [
    "for i in range(len(pageLinks)):\n",
    "    try:\n",
    "        time.sleep(5)\n",
    "        url=driver.get(pageLinks[i])\n",
    "        print (pageLinks[i])\n",
    "        doc_reviews(url)\n",
    "    except:\n",
    "        continue"
   ]
  },
  {
   "cell_type": "code",
   "execution_count": 236,
   "metadata": {
    "pycharm": {
     "is_executing": false
    }
   },
   "outputs": [
    {
     "name": "stdout",
     "output_type": "stream",
     "text": [
      "240\n",
      "240\n",
      "240\n",
      "240\n",
      "240\n"
     ]
    }
   ],
   "source": [
    "print(len(doctor_names))\n",
    "print(len(page_reviews))\n",
    "print(len(rate_doc))\n",
    "print(len(gender))\n",
    "print(len(hospital_affiliate))\n",
    "d = {'Doctor_names':doctor_names, 'Doctor_Gender':gender, 'Doctor_reviews':page_reviews, 'Doctor_ratings':rate_doc, 'Hospital Affiliations':hospital_affiliate}"
   ]
  },
  {
   "cell_type": "code",
   "execution_count": 237,
   "metadata": {
    "pycharm": {
     "is_executing": false
    }
   },
   "outputs": [],
   "source": [
    "df = pd.DataFrame(d)"
   ]
  },
  {
   "cell_type": "code",
   "execution_count": 238,
   "metadata": {
    "pycharm": {
     "is_executing": false
    }
   },
   "outputs": [],
   "source": [
    "df.to_csv(\"/Users/sujaikarunakaran/Desktop/Assignments/Spring 2020/Ranga/Final Project/Ratemds - Illinois/New/ratemds_96-119.csv\", index=False,header=True)\n",
    "\n"
   ]
  },
  {
   "cell_type": "code",
   "execution_count": 244,
   "metadata": {},
   "outputs": [],
   "source": [
    "import re, string, unicodedata\n",
    "import nltk\n",
    "#import contractions\n",
    "#import inflect\n",
    "from bs4 import BeautifulSoup\n",
    "import pandas as pd\n",
    "import os\n",
    "os.chdir(\"/Users/sujaikarunakaran/Desktop/Assignments/Spring 2020/Ranga/Final Project/Ratemds - Illinois/New\")\n",
    "import glob\n",
    "import numpy as np"
   ]
  },
  {
   "cell_type": "code",
   "execution_count": 245,
   "metadata": {},
   "outputs": [],
   "source": [
    "extension = 'csv'\n",
    "conc = [i for i in glob.glob('*.{}'.format(extension))]"
   ]
  },
  {
   "cell_type": "code",
   "execution_count": 247,
   "metadata": {},
   "outputs": [],
   "source": [
    "#combine all files in the list\n",
    "complete_data = pd.concat([pd.read_csv(f) for f in conc])\n",
    "#export to csv\n",
    "complete_data.to_csv(\"complete_data.csv\", index=False, encoding='utf=8-sig')"
   ]
  },
  {
   "cell_type": "code",
   "execution_count": null,
   "metadata": {},
   "outputs": [],
   "source": []
  }
 ],
 "metadata": {
  "kernelspec": {
   "display_name": "Python 3",
   "language": "python",
   "name": "python3"
  },
  "language_info": {
   "codemirror_mode": {
    "name": "ipython",
    "version": 3
   },
   "file_extension": ".py",
   "mimetype": "text/x-python",
   "name": "python",
   "nbconvert_exporter": "python",
   "pygments_lexer": "ipython3",
   "version": "3.7.3"
  },
  "pycharm": {
   "stem_cell": {
    "cell_type": "raw",
    "metadata": {
     "collapsed": false
    },
    "source": []
   }
  }
 },
 "nbformat": 4,
 "nbformat_minor": 2
}
