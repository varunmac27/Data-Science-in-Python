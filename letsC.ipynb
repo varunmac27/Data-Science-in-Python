{
 "cells": [
  {
   "cell_type": "code",
   "execution_count": 13,
   "metadata": {
    "pycharm": {
     "is_executing": true
    }
   },
   "outputs": [],
   "source": [
    "import selenium\n",
    "import pandas as pd\n",
    "from selenium.webdriver.common.keys import Keys\n",
    "from selenium import webdriver\n",
    "import re\n",
    "from bs4 import BeautifulSoup\n",
    "import urllib\n",
    "from selenium.common.exceptions import NoSuchElementException \n",
    "from selenium.common.exceptions import WebDriverException\n",
    "import time\n",
    "import csv"
   ]
  },
  {
   "cell_type": "code",
   "execution_count": 14,
   "metadata": {},
   "outputs": [],
   "source": [
    "chrome_path = \"C:/Users/sangh/PycharmProjects/FinalProject594/chromedriver_win32/chromedriver.exe\"\n",
    "driver = webdriver.Chrome(chrome_path)\n"
   ]
  },
  {
   "cell_type": "code",
   "execution_count": 15,
   "metadata": {},
   "outputs": [],
   "source": [
    "#Creating different lists to extract info from each page\n",
    "doctor_names=[]\n",
    "school=[]\n",
    "year = []"
   ]
  },
  {
   "cell_type": "code",
   "execution_count": 16,
   "metadata": {},
   "outputs": [],
   "source": [
    "def demoInfo(url):\n",
    "    \n",
    "    #Getting all the individual doctor page links\n",
    "    list_of_hrefs = []\n",
    "    \n",
    "    doctor_list = driver.find_elements_by_id(\"doctor-list\")\n",
    "    time.sleep(1)\n",
    "\n",
    "    for block in doctor_list:\n",
    "        elements = block.find_elements_by_class_name(\"search-item-doctor-link\")\n",
    "        for el in elements:\n",
    "            list_of_hrefs.append(el.get_attribute(\"href\"))\n",
    "\n",
    "    #print (list_of_hrefs)\n",
    "    \n",
    "    #Removing all unwanted characters in the link list \n",
    "    try:\n",
    "        regex = re.compile(r'^tel:')\n",
    "        href=[x for x in list_of_hrefs if not regex.match(x)]\n",
    "    except:\n",
    "        list_of_hrefs=list(filter(None,list_of_hrefs))\n",
    "        regex = re.compile(r'^tel:')\n",
    "        href=[x for x in list_of_hrefs if not regex.match(x)]\n",
    "    finally:\n",
    "        print (len(href))\n",
    "        append_str = '#credentials'\n",
    "        list_new = [sub + append_str for sub in href]\n",
    "        print(list_new)\n",
    "        print(len(list_new))\n",
    "    \n",
    "    for j in range(len(list_new)):\n",
    "        time.sleep(2)\n",
    "        driver.get(list_new[j])     \n",
    "        \n",
    "        time.sleep(5)\n",
    "        \n",
    "        try:\n",
    "            name=driver.find_element_by_xpath(\"//h1[@itemprop='name']\")\n",
    "            doctor_names.append(name.text)\n",
    "        except:\n",
    "            name.append(\"Unknown\")\n",
    "        \n",
    "        try:\n",
    "            s=driver.find_element_by_xpath(\"//*[@id='left-content']/span/div[2]/span/ul/li/span[1]\")\n",
    "            school.append(s.text)\n",
    "        except:\n",
    "            school.append(\"Unknown\")    \n",
    "        \n",
    "        try:\n",
    "            y=driver.find_element_by_xpath(\"//*[@id='left-content']/span/div[2]/span/ul/li/span[2]\")\n",
    "            year.append(y.text)\n",
    "        except:\n",
    "            year.append(\"Unknown\")\n",
    "            \n",
    "    print (len(doctor_names))\n",
    "    print (len(school))   \n",
    "    print (len(year))"
   ]
  },
  {
   "cell_type": "code",
   "execution_count": 17,
   "metadata": {},
   "outputs": [
    {
     "name": "stdout",
     "output_type": "stream",
     "text": [
      "1\n"
     ]
    }
   ],
   "source": [
    "pageLinks=[]\n",
    "#Illinois\n",
    "url=driver.get(\"https://www.ratemds.com/best-doctors/il/?specialty=gynecologist-obgyn&page=67\")\n",
    "source=driver.current_url\n",
    "pageLinks.append(source)\n",
    "time.sleep(2)\n",
    "\n",
    "for i in range(0):\n",
    "    try:\n",
    "        time.sleep(3)\n",
    "        driver.find_element_by_xpath('//*[@id=\"doctor-list\"]/div/nav/ul/li[11]/a/span/i'.format(i)).click()\n",
    "        source = driver.current_url\n",
    "        pageLinks.append(source)\n",
    "    except ConnectionResetError:\n",
    "        continue\n",
    "    except NoSuchElementException:\n",
    "        continue\n",
    "    except:\n",
    "        continue\n",
    "print(len(pageLinks))"
   ]
  },
  {
   "cell_type": "code",
   "execution_count": 18,
   "metadata": {},
   "outputs": [
    {
     "name": "stdout",
     "output_type": "stream",
     "text": [
      "['https://www.ratemds.com/best-doctors/il/?specialty=gynecologist-obgyn&page=67']\n"
     ]
    }
   ],
   "source": [
    "print(pageLinks)"
   ]
  },
  {
   "cell_type": "code",
   "execution_count": 19,
   "metadata": {},
   "outputs": [],
   "source": [
    "#pageLinks.remove(None)\n",
    "#pageLinks.append(driver.current_url)\n",
    "seen = set()\n",
    "result = []\n",
    "for item in pageLinks:\n",
    "    if item not in seen:\n",
    "        seen.add(item)\n",
    "        result.append(item)"
   ]
  },
  {
   "cell_type": "code",
   "execution_count": 21,
   "metadata": {},
   "outputs": [],
   "source": [
    "i=1"
   ]
  },
  {
   "cell_type": "code",
   "execution_count": 22,
   "metadata": {},
   "outputs": [
    {
     "name": "stdout",
     "output_type": "stream",
     "text": [
      "https://www.ratemds.com/best-doctors/il/?specialty=gynecologist-obgyn&page=67\n",
      "10\n",
      "['https://www.ratemds.com/doctor-ratings/474989/Dr-Camela+M.-Harris-Deerfield-IL.html#credentials', 'https://www.ratemds.com/doctor-ratings/3372637/Dr-THOMAS-TOUSSAINT-ROCKFORD-IL.html#credentials', 'https://www.ratemds.com/doctor-ratings/880916/Dr-Ewa-Nowak-Elk+Grove+Village-IL.html#credentials', 'https://www.ratemds.com/doctor-ratings/479569/Dr-Shaunda+P.-Chin-Bonds-Olympia+Fields-IL.html#credentials', 'https://www.ratemds.com/doctor-ratings/405419/Dr-Ashok+N.-Shah-Chicago-IL.html#credentials', 'https://www.ratemds.com/doctor-ratings/128714/Dr-Irma-Sodini-Chicago-IL.html#credentials', 'https://www.ratemds.com/doctor-ratings/194914/Dr-Yvonne+C.-Collins-Oak+Lawn-IL.html#credentials', 'https://www.ratemds.com/doctor-ratings/31232/Dr-Asha-Gandhi-Park+City-IL.html#credentials', 'https://www.ratemds.com/doctor-ratings/405791/Dr-Rebecca+S.-Keith-Palatine-IL.html#credentials', 'https://www.ratemds.com/doctor-ratings/3347/Dr-BETTY-Hsia-Lisle-IL.html#credentials']\n",
      "10\n"
     ]
    },
    {
     "ename": "UnboundLocalError",
     "evalue": "local variable 'name' referenced before assignment",
     "output_type": "error",
     "traceback": [
      "\u001b[1;31m---------------------------------------------------------------------------\u001b[0m",
      "\u001b[1;31mNoSuchElementException\u001b[0m                    Traceback (most recent call last)",
      "\u001b[1;32m<ipython-input-16-e3a732218a0f>\u001b[0m in \u001b[0;36mdemoInfo\u001b[1;34m(url)\u001b[0m\n\u001b[0;32m     37\u001b[0m         \u001b[1;32mtry\u001b[0m\u001b[1;33m:\u001b[0m\u001b[1;33m\u001b[0m\u001b[1;33m\u001b[0m\u001b[0m\n\u001b[1;32m---> 38\u001b[1;33m             \u001b[0mname\u001b[0m\u001b[1;33m=\u001b[0m\u001b[0mdriver\u001b[0m\u001b[1;33m.\u001b[0m\u001b[0mfind_element_by_xpath\u001b[0m\u001b[1;33m(\u001b[0m\u001b[1;34m\"//h1[@itemprop='name']\"\u001b[0m\u001b[1;33m)\u001b[0m\u001b[1;33m\u001b[0m\u001b[1;33m\u001b[0m\u001b[0m\n\u001b[0m\u001b[0;32m     39\u001b[0m             \u001b[0mdoctor_names\u001b[0m\u001b[1;33m.\u001b[0m\u001b[0mappend\u001b[0m\u001b[1;33m(\u001b[0m\u001b[0mname\u001b[0m\u001b[1;33m.\u001b[0m\u001b[0mtext\u001b[0m\u001b[1;33m)\u001b[0m\u001b[1;33m\u001b[0m\u001b[1;33m\u001b[0m\u001b[0m\n",
      "\u001b[1;32m~\\anaconda3\\lib\\site-packages\\selenium\\webdriver\\remote\\webdriver.py\u001b[0m in \u001b[0;36mfind_element_by_xpath\u001b[1;34m(self, xpath)\u001b[0m\n\u001b[0;32m    393\u001b[0m         \"\"\"\n\u001b[1;32m--> 394\u001b[1;33m         \u001b[1;32mreturn\u001b[0m \u001b[0mself\u001b[0m\u001b[1;33m.\u001b[0m\u001b[0mfind_element\u001b[0m\u001b[1;33m(\u001b[0m\u001b[0mby\u001b[0m\u001b[1;33m=\u001b[0m\u001b[0mBy\u001b[0m\u001b[1;33m.\u001b[0m\u001b[0mXPATH\u001b[0m\u001b[1;33m,\u001b[0m \u001b[0mvalue\u001b[0m\u001b[1;33m=\u001b[0m\u001b[0mxpath\u001b[0m\u001b[1;33m)\u001b[0m\u001b[1;33m\u001b[0m\u001b[1;33m\u001b[0m\u001b[0m\n\u001b[0m\u001b[0;32m    395\u001b[0m \u001b[1;33m\u001b[0m\u001b[0m\n",
      "\u001b[1;32m~\\anaconda3\\lib\\site-packages\\selenium\\webdriver\\remote\\webdriver.py\u001b[0m in \u001b[0;36mfind_element\u001b[1;34m(self, by, value)\u001b[0m\n\u001b[0;32m    977\u001b[0m             \u001b[1;34m'using'\u001b[0m\u001b[1;33m:\u001b[0m \u001b[0mby\u001b[0m\u001b[1;33m,\u001b[0m\u001b[1;33m\u001b[0m\u001b[1;33m\u001b[0m\u001b[0m\n\u001b[1;32m--> 978\u001b[1;33m             'value': value})['value']\n\u001b[0m\u001b[0;32m    979\u001b[0m \u001b[1;33m\u001b[0m\u001b[0m\n",
      "\u001b[1;32m~\\anaconda3\\lib\\site-packages\\selenium\\webdriver\\remote\\webdriver.py\u001b[0m in \u001b[0;36mexecute\u001b[1;34m(self, driver_command, params)\u001b[0m\n\u001b[0;32m    320\u001b[0m         \u001b[1;32mif\u001b[0m \u001b[0mresponse\u001b[0m\u001b[1;33m:\u001b[0m\u001b[1;33m\u001b[0m\u001b[1;33m\u001b[0m\u001b[0m\n\u001b[1;32m--> 321\u001b[1;33m             \u001b[0mself\u001b[0m\u001b[1;33m.\u001b[0m\u001b[0merror_handler\u001b[0m\u001b[1;33m.\u001b[0m\u001b[0mcheck_response\u001b[0m\u001b[1;33m(\u001b[0m\u001b[0mresponse\u001b[0m\u001b[1;33m)\u001b[0m\u001b[1;33m\u001b[0m\u001b[1;33m\u001b[0m\u001b[0m\n\u001b[0m\u001b[0;32m    322\u001b[0m             response['value'] = self._unwrap_value(\n",
      "\u001b[1;32m~\\anaconda3\\lib\\site-packages\\selenium\\webdriver\\remote\\errorhandler.py\u001b[0m in \u001b[0;36mcheck_response\u001b[1;34m(self, response)\u001b[0m\n\u001b[0;32m    241\u001b[0m             \u001b[1;32mraise\u001b[0m \u001b[0mexception_class\u001b[0m\u001b[1;33m(\u001b[0m\u001b[0mmessage\u001b[0m\u001b[1;33m,\u001b[0m \u001b[0mscreen\u001b[0m\u001b[1;33m,\u001b[0m \u001b[0mstacktrace\u001b[0m\u001b[1;33m,\u001b[0m \u001b[0malert_text\u001b[0m\u001b[1;33m)\u001b[0m\u001b[1;33m\u001b[0m\u001b[1;33m\u001b[0m\u001b[0m\n\u001b[1;32m--> 242\u001b[1;33m         \u001b[1;32mraise\u001b[0m \u001b[0mexception_class\u001b[0m\u001b[1;33m(\u001b[0m\u001b[0mmessage\u001b[0m\u001b[1;33m,\u001b[0m \u001b[0mscreen\u001b[0m\u001b[1;33m,\u001b[0m \u001b[0mstacktrace\u001b[0m\u001b[1;33m)\u001b[0m\u001b[1;33m\u001b[0m\u001b[1;33m\u001b[0m\u001b[0m\n\u001b[0m\u001b[0;32m    243\u001b[0m \u001b[1;33m\u001b[0m\u001b[0m\n",
      "\u001b[1;31mNoSuchElementException\u001b[0m: Message: no such element: Unable to locate element: {\"method\":\"xpath\",\"selector\":\"//h1[@itemprop='name']\"}\n  (Session info: chrome=81.0.4044.92)\n",
      "\nDuring handling of the above exception, another exception occurred:\n",
      "\u001b[1;31mUnboundLocalError\u001b[0m                         Traceback (most recent call last)",
      "\u001b[1;32m<ipython-input-22-775e2e5fccc3>\u001b[0m in \u001b[0;36m<module>\u001b[1;34m\u001b[0m\n\u001b[0;32m      5\u001b[0m     \u001b[0mprint\u001b[0m \u001b[1;33m(\u001b[0m\u001b[0mresult\u001b[0m\u001b[1;33m[\u001b[0m\u001b[0mi\u001b[0m\u001b[1;33m]\u001b[0m\u001b[1;33m)\u001b[0m\u001b[1;33m\u001b[0m\u001b[1;33m\u001b[0m\u001b[0m\n\u001b[0;32m      6\u001b[0m     \u001b[0mtime\u001b[0m\u001b[1;33m.\u001b[0m\u001b[0msleep\u001b[0m\u001b[1;33m(\u001b[0m\u001b[1;36m1\u001b[0m\u001b[1;33m)\u001b[0m\u001b[1;33m\u001b[0m\u001b[1;33m\u001b[0m\u001b[0m\n\u001b[1;32m----> 7\u001b[1;33m     \u001b[0mdemoInfo\u001b[0m\u001b[1;33m(\u001b[0m\u001b[0murl\u001b[0m\u001b[1;33m)\u001b[0m\u001b[1;33m\u001b[0m\u001b[1;33m\u001b[0m\u001b[0m\n\u001b[0m",
      "\u001b[1;32m<ipython-input-16-e3a732218a0f>\u001b[0m in \u001b[0;36mdemoInfo\u001b[1;34m(url)\u001b[0m\n\u001b[0;32m     39\u001b[0m             \u001b[0mdoctor_names\u001b[0m\u001b[1;33m.\u001b[0m\u001b[0mappend\u001b[0m\u001b[1;33m(\u001b[0m\u001b[0mname\u001b[0m\u001b[1;33m.\u001b[0m\u001b[0mtext\u001b[0m\u001b[1;33m)\u001b[0m\u001b[1;33m\u001b[0m\u001b[1;33m\u001b[0m\u001b[0m\n\u001b[0;32m     40\u001b[0m         \u001b[1;32mexcept\u001b[0m\u001b[1;33m:\u001b[0m\u001b[1;33m\u001b[0m\u001b[1;33m\u001b[0m\u001b[0m\n\u001b[1;32m---> 41\u001b[1;33m             \u001b[0mname\u001b[0m\u001b[1;33m.\u001b[0m\u001b[0mappend\u001b[0m\u001b[1;33m(\u001b[0m\u001b[1;34m\"Unknown\"\u001b[0m\u001b[1;33m)\u001b[0m\u001b[1;33m\u001b[0m\u001b[1;33m\u001b[0m\u001b[0m\n\u001b[0m\u001b[0;32m     42\u001b[0m \u001b[1;33m\u001b[0m\u001b[0m\n\u001b[0;32m     43\u001b[0m         \u001b[1;32mtry\u001b[0m\u001b[1;33m:\u001b[0m\u001b[1;33m\u001b[0m\u001b[1;33m\u001b[0m\u001b[0m\n",
      "\u001b[1;31mUnboundLocalError\u001b[0m: local variable 'name' referenced before assignment"
     ]
    }
   ],
   "source": [
    "#pageLinks.append(driver.current_url)\n",
    "#Getting all the demographic info\n",
    "for i in range(len(result)):\n",
    "    url=driver.get(result[i])\n",
    "    print (result[i])\n",
    "    time.sleep(1)\n",
    "    demoInfo(url)"
   ]
  },
  {
   "cell_type": "code",
   "execution_count": 9,
   "metadata": {},
   "outputs": [
    {
     "name": "stdout",
     "output_type": "stream",
     "text": [
      "10\n",
      "10\n",
      "10\n"
     ]
    }
   ],
   "source": [
    "print (len(doctor_names))\n",
    "print (len(school))\n",
    "print(len(year))"
   ]
  },
  {
   "cell_type": "code",
   "execution_count": 10,
   "metadata": {},
   "outputs": [
    {
     "name": "stdout",
     "output_type": "stream",
     "text": [
      "['Unknown', 'Unknown', 'University Of Illinois At Chicago Health Science Center', 'University Of Health Sciences/Chicago Medical School', 'University Of Osteopathic Medicine And Health Sciences', 'Chicago College Of Osteopathic Medicine', 'Unknown', 'Unknown', 'Univ Auto De Guadalajara, Fac De Med, Guadalajara, Jalisco, Mexico', 'Unknown']\n"
     ]
    }
   ],
   "source": [
    "print(school)"
   ]
  },
  {
   "cell_type": "code",
   "execution_count": 11,
   "metadata": {},
   "outputs": [
    {
     "name": "stdout",
     "output_type": "stream",
     "text": [
      "['Unknown', 'Unknown', '(Grad. 1984)', '(Grad. 1976)', '(Grad. 1998)', '(Grad. 2000)', 'Unknown', 'Unknown', '(Grad. 1982)', 'Unknown']\n"
     ]
    }
   ],
   "source": [
    "print(year)"
   ]
  },
  {
   "cell_type": "code",
   "execution_count": 12,
   "metadata": {},
   "outputs": [],
   "source": [
    "reviewDict={'Name':doctor_names, 'University':school, 'Year':year}\n",
    "dataframe=pd.DataFrame(data=reviewDict)\n",
    "dataframe\n",
    "dataframe.to_csv('Rate1.csv', header=True, mode='a')"
   ]
  },
  {
   "cell_type": "code",
   "execution_count": null,
   "metadata": {},
   "outputs": [],
   "source": []
  }
 ],
 "metadata": {
  "kernelspec": {
   "display_name": "Python 3",
   "language": "python",
   "name": "python3"
  },
  "language_info": {
   "codemirror_mode": {
    "name": "ipython",
    "version": 3
   },
   "file_extension": ".py",
   "mimetype": "text/x-python",
   "name": "python",
   "nbconvert_exporter": "python",
   "pygments_lexer": "ipython3",
   "version": "3.7.6"
  }
 },
 "nbformat": 4,
 "nbformat_minor": 4
}
